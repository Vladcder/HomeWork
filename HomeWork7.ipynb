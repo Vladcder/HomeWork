{
  "nbformat": 4,
  "nbformat_minor": 0,
  "metadata": {
    "colab": {
      "provenance": []
    },
    "kernelspec": {
      "name": "python3",
      "display_name": "Python 3"
    },
    "language_info": {
      "name": "python"
    }
  },
  "cells": [
    {
      "cell_type": "code",
      "execution_count": 1,
      "metadata": {
        "id": "sOE5ymn6hfdA"
      },
      "outputs": [],
      "source": [
        "import requests\n",
        "from bs4 import BeautifulSoup\n",
        "import pandas as pd\n",
        "from tqdm import tqdm"
      ]
    },
    {
      "cell_type": "markdown",
      "source": [
        "Ссылка для пагинации"
      ],
      "metadata": {
        "id": "_aFRSXcT5298"
      }
    },
    {
      "cell_type": "code",
      "source": [
        "base_url ='https://lifehacker.ru/topics/technology'\n",
        "\n",
        "response=requests.get(base_url)\n",
        "soup=BeautifulSoup(response.text, 'lxml')"
      ],
      "metadata": {
        "id": "7MXFgVBQh7Rs"
      },
      "execution_count": 2,
      "outputs": []
    },
    {
      "cell_type": "markdown",
      "source": [
        "Получение ссылок на страницы"
      ],
      "metadata": {
        "id": "CEzOTJxd6LaG"
      }
    },
    {
      "cell_type": "code",
      "source": [
        "raw_items = soup.find_all('a', class_='lh-small-article-card__link')\n",
        "parsed_urls=[item.get('href') for item in raw_items]\n",
        "parsed_urls"
      ],
      "metadata": {
        "colab": {
          "base_uri": "https://localhost:8080/"
        },
        "id": "NJZSwItih-Dl",
        "outputId": "dfeb5dce-a674-4f34-c99d-26d23d2aaf9d"
      },
      "execution_count": 3,
      "outputs": [
        {
          "output_type": "execute_result",
          "data": {
            "text/plain": [
              "['/perezaryazhaemye-klaviatury-i-myshi/',\n",
              " '/kak-vybrat-utyug/',\n",
              " '/novyi-fotoperevod-ot-yandeksa/',\n",
              " '/blokirovka-discord-i-steam-v-rossii/',\n",
              " '/anons-durov-run/',\n",
              " '/anons-tesla-cybercab-i-robovan/',\n",
              " '/obzor-honor-magicbook-x16-plus-2024/',\n",
              " '/vyshlo-mobilnoe-prilozhenie-alisa/',\n",
              " '/anons-jmgo-picoflix/',\n",
              " '/anons-nintendo-alarmo/',\n",
              " '/krutye-gadzhety-xiaomi/',\n",
              " '/analog-discord/',\n",
              " '/bolshoe-obnovlenie-onedrive/',\n",
              " '/luchshie-nedorogie-smartfony-2024/',\n",
              " '/ipod-classic/',\n",
              " '/discord-oficialno-zablokirovali-v-rossii/',\n",
              " '/nobelevskaya-premiya-po-fizike-2024/',\n",
              " '/vkladki-v-google-docs/',\n",
              " '/otnosheniya-vladelcev-iphone-i-android/',\n",
              " '/anons-ikoffy-gobrew/',\n",
              " '/anons-samsung-galaxy-a16-5g/',\n",
              " '/krupneishee-obnovlenie-vk-muzyki/',\n",
              " '/google-pixel-9-raskryvaet-mestopolozhenie/',\n",
              " '/prodvinutaya-zashhita-android-ot-krazhi/',\n",
              " '/rasshireniya-chrome-vybor-redakcii/',\n",
              " '/kakuyu-kameru-kupit-dlya-videonablyudeniya-doma/',\n",
              " '/podarki-v-telegram/',\n",
              " '/arc-search-na-android/',\n",
              " '/ps5-vs-ps5-pro-za-i-protiv/',\n",
              " '/analogi-chatgpt/']"
            ]
          },
          "metadata": {},
          "execution_count": 3
        }
      ]
    },
    {
      "cell_type": "code",
      "source": [
        "parsed_urls[:10]"
      ],
      "metadata": {
        "colab": {
          "base_uri": "https://localhost:8080/"
        },
        "id": "cNGSQS1zmB61",
        "outputId": "dcdbf882-056d-4d0f-b920-0e932ec50455"
      },
      "execution_count": null,
      "outputs": [
        {
          "output_type": "execute_result",
          "data": {
            "text/plain": [
              "['/kak-vybrat-utyug/',\n",
              " '/novyi-fotoperevod-ot-yandeksa/',\n",
              " '/blokirovka-discord-i-steam-v-rossii/',\n",
              " '/anons-durov-run/',\n",
              " '/anons-tesla-cybercab-i-robovan/',\n",
              " '/obzor-honor-magicbook-x16-plus-2024/',\n",
              " '/vyshlo-mobilnoe-prilozhenie-alisa/',\n",
              " '/anons-jmgo-picoflix/',\n",
              " '/anons-nintendo-alarmo/',\n",
              " '/krutye-gadzhety-xiaomi/']"
            ]
          },
          "metadata": {},
          "execution_count": 97
        }
      ]
    },
    {
      "cell_type": "markdown",
      "source": [
        "Парсинг текста"
      ],
      "metadata": {
        "id": "khGmLPtk6be0"
      }
    },
    {
      "cell_type": "code",
      "source": [
        "result=[]\n",
        "for url in tqdm(parsed_urls[:10]):\n",
        "  new_base_url=base_url.replace('/topics/technology','')\n",
        "  article={}\n",
        "  article_url=f'{new_base_url}{url}'\n",
        "  response=requests.get(article_url)\n",
        "  soup=BeautifulSoup(response.text,'lxml')\n",
        "  article['title']=soup.find('h1', class_='article-card__title').text\n",
        "  article['text']=''\n",
        "  for a in soup.find_all('p', class_= not \"author__description\"):\n",
        "    article['text']+=a.text\n",
        "\n",
        "  result.append(article)"
      ],
      "metadata": {
        "colab": {
          "base_uri": "https://localhost:8080/"
        },
        "id": "djmMRJrWlv8S",
        "outputId": "2d90c01c-5c4d-45ab-c52f-97f46630dfc8"
      },
      "execution_count": 4,
      "outputs": [
        {
          "output_type": "stream",
          "name": "stderr",
          "text": [
            "100%|██████████| 10/10 [00:08<00:00,  1.13it/s]\n"
          ]
        }
      ]
    },
    {
      "cell_type": "markdown",
      "source": [
        "Создание датасета"
      ],
      "metadata": {
        "id": "F_OCoaQa6d1G"
      }
    },
    {
      "cell_type": "code",
      "source": [
        "pd.set_option('display.max_colwidth', 400)\n",
        "data=pd.DataFrame(result)\n",
        "data.head()"
      ],
      "metadata": {
        "colab": {
          "base_uri": "https://localhost:8080/",
          "height": 449
        },
        "id": "LuB3BZU4p_bt",
        "outputId": "e907e8a8-5dee-44c2-8f49-2b47423df17c"
      },
      "execution_count": 5,
      "outputs": [
        {
          "output_type": "execute_result",
          "data": {
            "text/plain": [
              "                                                                                        title  \\\n",
              "0                             20 отличных клавиатур и мышек для ПК с возможностью перезарядки   \n",
              "1                                                           Как выбрать хороший утюг для дома   \n",
              "2  Новая версия фотоперевода от «Яндекса» поможет читать тексты с картинок на десятках языков   \n",
              "3     Роскомнадзор не собирается блокировать Steam, но и разблокировать Discord тоже не хочет   \n",
              "4                      В Telegram запустили игру-раннер про Павла Дурова — как Subway Surfers   \n",
              "\n",
              "                                                                                                                                                                                                                                                                                                                                                                                                              text  \n",
              "0  Эти модели работают от встроенных литиевых АКБ, которые заряжаются по USB.Компактная и тонкая клавиатура с тихим, упругим ходом клавиш, которую удобно брать с собой для работы в портативном формате или использовать с телевизором. «Оклик 835S» поддерживает одновременное соединение с тремя устройствами и быстрое переключение между ними.Клиновидный профиль обеспечивает удобный угол наклона, а цеп...  \n",
              "1  Утюги бывают паровыми и обычными, то есть без функции парообразования. Расскажем, в чём особенности разных вариантов. Это самый простой вид утюгов, сейчас такие почти не производят. Эффективность этих моделей невысока, зато они без всяких заморочек — включил в сеть, нагрел и гладь. Без пара и дополнительных функций. Подойдёт, если у вас нет одежды и белья из деликатных тканей или вы просто при...  \n",
              "2  «Яндекс» представил новую версию технологии перевода текста на изображениях. Она работает на базе нейросетей и позволяет переводить картинки с учётом контекста. Например, в поездке можно быстро перевести меню в ресторане, а на работе — разобраться в технической документации.Также «Яндекс» улучшил визуализацию перевода — текст стал легче читаться и больше похож на оригинальную вёрстку. Нейросет...  \n",
              "3  Недавно Роскомнадзор полностью заблокировал в России Discord, а также внёс семь страниц сообщества Steam в Единый реестр запрещённых на территории РФ сайтов. После этого многие предположили, что доступ к игровому сервису от Valve тоже скоро закроют. Тем не менее федеральная служба заявила, что в отношении Steam «ограничительных мер не планируется».Ранее Роскомнадзор зафиксировал, что Steam раз...  \n",
              "4  Компания T-LAB запустила в Telegram игру под названием Durov Run, которая посвящена жизни и карьере Павла Дурова. Она представляет собой трёхмерный раннер с элементами бизнес-симулятора. В игре предстоит оказаться в локациях, где жил и работал Дуров, уклоняться от препятствий и собирать бонусы.Игра состоит из трёх частей. В первой пользователи смогут пробежаться по Петербургу, где Дуров учился...  "
            ],
            "text/html": [
              "\n",
              "  <div id=\"df-c50d6fca-0311-4936-b386-0030424c0e94\" class=\"colab-df-container\">\n",
              "    <div>\n",
              "<style scoped>\n",
              "    .dataframe tbody tr th:only-of-type {\n",
              "        vertical-align: middle;\n",
              "    }\n",
              "\n",
              "    .dataframe tbody tr th {\n",
              "        vertical-align: top;\n",
              "    }\n",
              "\n",
              "    .dataframe thead th {\n",
              "        text-align: right;\n",
              "    }\n",
              "</style>\n",
              "<table border=\"1\" class=\"dataframe\">\n",
              "  <thead>\n",
              "    <tr style=\"text-align: right;\">\n",
              "      <th></th>\n",
              "      <th>title</th>\n",
              "      <th>text</th>\n",
              "    </tr>\n",
              "  </thead>\n",
              "  <tbody>\n",
              "    <tr>\n",
              "      <th>0</th>\n",
              "      <td>20 отличных клавиатур и мышек для ПК с возможностью перезарядки</td>\n",
              "      <td>Эти модели работают от встроенных литиевых АКБ, которые заряжаются по USB.Компактная и тонкая клавиатура с тихим, упругим ходом клавиш, которую удобно брать с собой для работы в портативном формате или использовать с телевизором. «Оклик 835S» поддерживает одновременное соединение с тремя устройствами и быстрое переключение между ними.Клиновидный профиль обеспечивает удобный угол наклона, а цеп...</td>\n",
              "    </tr>\n",
              "    <tr>\n",
              "      <th>1</th>\n",
              "      <td>Как выбрать хороший утюг для дома</td>\n",
              "      <td>Утюги бывают паровыми и обычными, то есть без функции парообразования. Расскажем, в чём особенности разных вариантов. Это самый простой вид утюгов, сейчас такие почти не производят. Эффективность этих моделей невысока, зато они без всяких заморочек — включил в сеть, нагрел и гладь. Без пара и дополнительных функций. Подойдёт, если у вас нет одежды и белья из деликатных тканей или вы просто при...</td>\n",
              "    </tr>\n",
              "    <tr>\n",
              "      <th>2</th>\n",
              "      <td>Новая версия фотоперевода от «Яндекса» поможет читать тексты с картинок на десятках языков</td>\n",
              "      <td>«Яндекс» представил новую версию технологии перевода текста на изображениях. Она работает на базе нейросетей и позволяет переводить картинки с учётом контекста. Например, в поездке можно быстро перевести меню в ресторане, а на работе — разобраться в технической документации.Также «Яндекс» улучшил визуализацию перевода — текст стал легче читаться и больше похож на оригинальную вёрстку. Нейросет...</td>\n",
              "    </tr>\n",
              "    <tr>\n",
              "      <th>3</th>\n",
              "      <td>Роскомнадзор не собирается блокировать Steam, но и разблокировать Discord тоже не хочет</td>\n",
              "      <td>Недавно Роскомнадзор полностью заблокировал в России Discord, а также внёс семь страниц сообщества Steam в Единый реестр запрещённых на территории РФ сайтов. После этого многие предположили, что доступ к игровому сервису от Valve тоже скоро закроют. Тем не менее федеральная служба заявила, что в отношении Steam «ограничительных мер не планируется».Ранее Роскомнадзор зафиксировал, что Steam раз...</td>\n",
              "    </tr>\n",
              "    <tr>\n",
              "      <th>4</th>\n",
              "      <td>В Telegram запустили игру-раннер про Павла Дурова — как Subway Surfers</td>\n",
              "      <td>Компания T-LAB запустила в Telegram игру под названием Durov Run, которая посвящена жизни и карьере Павла Дурова. Она представляет собой трёхмерный раннер с элементами бизнес-симулятора. В игре предстоит оказаться в локациях, где жил и работал Дуров, уклоняться от препятствий и собирать бонусы.Игра состоит из трёх частей. В первой пользователи смогут пробежаться по Петербургу, где Дуров учился...</td>\n",
              "    </tr>\n",
              "  </tbody>\n",
              "</table>\n",
              "</div>\n",
              "    <div class=\"colab-df-buttons\">\n",
              "\n",
              "  <div class=\"colab-df-container\">\n",
              "    <button class=\"colab-df-convert\" onclick=\"convertToInteractive('df-c50d6fca-0311-4936-b386-0030424c0e94')\"\n",
              "            title=\"Convert this dataframe to an interactive table.\"\n",
              "            style=\"display:none;\">\n",
              "\n",
              "  <svg xmlns=\"http://www.w3.org/2000/svg\" height=\"24px\" viewBox=\"0 -960 960 960\">\n",
              "    <path d=\"M120-120v-720h720v720H120Zm60-500h600v-160H180v160Zm220 220h160v-160H400v160Zm0 220h160v-160H400v160ZM180-400h160v-160H180v160Zm440 0h160v-160H620v160ZM180-180h160v-160H180v160Zm440 0h160v-160H620v160Z\"/>\n",
              "  </svg>\n",
              "    </button>\n",
              "\n",
              "  <style>\n",
              "    .colab-df-container {\n",
              "      display:flex;\n",
              "      gap: 12px;\n",
              "    }\n",
              "\n",
              "    .colab-df-convert {\n",
              "      background-color: #E8F0FE;\n",
              "      border: none;\n",
              "      border-radius: 50%;\n",
              "      cursor: pointer;\n",
              "      display: none;\n",
              "      fill: #1967D2;\n",
              "      height: 32px;\n",
              "      padding: 0 0 0 0;\n",
              "      width: 32px;\n",
              "    }\n",
              "\n",
              "    .colab-df-convert:hover {\n",
              "      background-color: #E2EBFA;\n",
              "      box-shadow: 0px 1px 2px rgba(60, 64, 67, 0.3), 0px 1px 3px 1px rgba(60, 64, 67, 0.15);\n",
              "      fill: #174EA6;\n",
              "    }\n",
              "\n",
              "    .colab-df-buttons div {\n",
              "      margin-bottom: 4px;\n",
              "    }\n",
              "\n",
              "    [theme=dark] .colab-df-convert {\n",
              "      background-color: #3B4455;\n",
              "      fill: #D2E3FC;\n",
              "    }\n",
              "\n",
              "    [theme=dark] .colab-df-convert:hover {\n",
              "      background-color: #434B5C;\n",
              "      box-shadow: 0px 1px 3px 1px rgba(0, 0, 0, 0.15);\n",
              "      filter: drop-shadow(0px 1px 2px rgba(0, 0, 0, 0.3));\n",
              "      fill: #FFFFFF;\n",
              "    }\n",
              "  </style>\n",
              "\n",
              "    <script>\n",
              "      const buttonEl =\n",
              "        document.querySelector('#df-c50d6fca-0311-4936-b386-0030424c0e94 button.colab-df-convert');\n",
              "      buttonEl.style.display =\n",
              "        google.colab.kernel.accessAllowed ? 'block' : 'none';\n",
              "\n",
              "      async function convertToInteractive(key) {\n",
              "        const element = document.querySelector('#df-c50d6fca-0311-4936-b386-0030424c0e94');\n",
              "        const dataTable =\n",
              "          await google.colab.kernel.invokeFunction('convertToInteractive',\n",
              "                                                    [key], {});\n",
              "        if (!dataTable) return;\n",
              "\n",
              "        const docLinkHtml = 'Like what you see? Visit the ' +\n",
              "          '<a target=\"_blank\" href=https://colab.research.google.com/notebooks/data_table.ipynb>data table notebook</a>'\n",
              "          + ' to learn more about interactive tables.';\n",
              "        element.innerHTML = '';\n",
              "        dataTable['output_type'] = 'display_data';\n",
              "        await google.colab.output.renderOutput(dataTable, element);\n",
              "        const docLink = document.createElement('div');\n",
              "        docLink.innerHTML = docLinkHtml;\n",
              "        element.appendChild(docLink);\n",
              "      }\n",
              "    </script>\n",
              "  </div>\n",
              "\n",
              "\n",
              "<div id=\"df-9b03022f-6e54-49b1-a3f6-80e65b49b071\">\n",
              "  <button class=\"colab-df-quickchart\" onclick=\"quickchart('df-9b03022f-6e54-49b1-a3f6-80e65b49b071')\"\n",
              "            title=\"Suggest charts\"\n",
              "            style=\"display:none;\">\n",
              "\n",
              "<svg xmlns=\"http://www.w3.org/2000/svg\" height=\"24px\"viewBox=\"0 0 24 24\"\n",
              "     width=\"24px\">\n",
              "    <g>\n",
              "        <path d=\"M19 3H5c-1.1 0-2 .9-2 2v14c0 1.1.9 2 2 2h14c1.1 0 2-.9 2-2V5c0-1.1-.9-2-2-2zM9 17H7v-7h2v7zm4 0h-2V7h2v10zm4 0h-2v-4h2v4z\"/>\n",
              "    </g>\n",
              "</svg>\n",
              "  </button>\n",
              "\n",
              "<style>\n",
              "  .colab-df-quickchart {\n",
              "      --bg-color: #E8F0FE;\n",
              "      --fill-color: #1967D2;\n",
              "      --hover-bg-color: #E2EBFA;\n",
              "      --hover-fill-color: #174EA6;\n",
              "      --disabled-fill-color: #AAA;\n",
              "      --disabled-bg-color: #DDD;\n",
              "  }\n",
              "\n",
              "  [theme=dark] .colab-df-quickchart {\n",
              "      --bg-color: #3B4455;\n",
              "      --fill-color: #D2E3FC;\n",
              "      --hover-bg-color: #434B5C;\n",
              "      --hover-fill-color: #FFFFFF;\n",
              "      --disabled-bg-color: #3B4455;\n",
              "      --disabled-fill-color: #666;\n",
              "  }\n",
              "\n",
              "  .colab-df-quickchart {\n",
              "    background-color: var(--bg-color);\n",
              "    border: none;\n",
              "    border-radius: 50%;\n",
              "    cursor: pointer;\n",
              "    display: none;\n",
              "    fill: var(--fill-color);\n",
              "    height: 32px;\n",
              "    padding: 0;\n",
              "    width: 32px;\n",
              "  }\n",
              "\n",
              "  .colab-df-quickchart:hover {\n",
              "    background-color: var(--hover-bg-color);\n",
              "    box-shadow: 0 1px 2px rgba(60, 64, 67, 0.3), 0 1px 3px 1px rgba(60, 64, 67, 0.15);\n",
              "    fill: var(--button-hover-fill-color);\n",
              "  }\n",
              "\n",
              "  .colab-df-quickchart-complete:disabled,\n",
              "  .colab-df-quickchart-complete:disabled:hover {\n",
              "    background-color: var(--disabled-bg-color);\n",
              "    fill: var(--disabled-fill-color);\n",
              "    box-shadow: none;\n",
              "  }\n",
              "\n",
              "  .colab-df-spinner {\n",
              "    border: 2px solid var(--fill-color);\n",
              "    border-color: transparent;\n",
              "    border-bottom-color: var(--fill-color);\n",
              "    animation:\n",
              "      spin 1s steps(1) infinite;\n",
              "  }\n",
              "\n",
              "  @keyframes spin {\n",
              "    0% {\n",
              "      border-color: transparent;\n",
              "      border-bottom-color: var(--fill-color);\n",
              "      border-left-color: var(--fill-color);\n",
              "    }\n",
              "    20% {\n",
              "      border-color: transparent;\n",
              "      border-left-color: var(--fill-color);\n",
              "      border-top-color: var(--fill-color);\n",
              "    }\n",
              "    30% {\n",
              "      border-color: transparent;\n",
              "      border-left-color: var(--fill-color);\n",
              "      border-top-color: var(--fill-color);\n",
              "      border-right-color: var(--fill-color);\n",
              "    }\n",
              "    40% {\n",
              "      border-color: transparent;\n",
              "      border-right-color: var(--fill-color);\n",
              "      border-top-color: var(--fill-color);\n",
              "    }\n",
              "    60% {\n",
              "      border-color: transparent;\n",
              "      border-right-color: var(--fill-color);\n",
              "    }\n",
              "    80% {\n",
              "      border-color: transparent;\n",
              "      border-right-color: var(--fill-color);\n",
              "      border-bottom-color: var(--fill-color);\n",
              "    }\n",
              "    90% {\n",
              "      border-color: transparent;\n",
              "      border-bottom-color: var(--fill-color);\n",
              "    }\n",
              "  }\n",
              "</style>\n",
              "\n",
              "  <script>\n",
              "    async function quickchart(key) {\n",
              "      const quickchartButtonEl =\n",
              "        document.querySelector('#' + key + ' button');\n",
              "      quickchartButtonEl.disabled = true;  // To prevent multiple clicks.\n",
              "      quickchartButtonEl.classList.add('colab-df-spinner');\n",
              "      try {\n",
              "        const charts = await google.colab.kernel.invokeFunction(\n",
              "            'suggestCharts', [key], {});\n",
              "      } catch (error) {\n",
              "        console.error('Error during call to suggestCharts:', error);\n",
              "      }\n",
              "      quickchartButtonEl.classList.remove('colab-df-spinner');\n",
              "      quickchartButtonEl.classList.add('colab-df-quickchart-complete');\n",
              "    }\n",
              "    (() => {\n",
              "      let quickchartButtonEl =\n",
              "        document.querySelector('#df-9b03022f-6e54-49b1-a3f6-80e65b49b071 button');\n",
              "      quickchartButtonEl.style.display =\n",
              "        google.colab.kernel.accessAllowed ? 'block' : 'none';\n",
              "    })();\n",
              "  </script>\n",
              "</div>\n",
              "    </div>\n",
              "  </div>\n"
            ],
            "application/vnd.google.colaboratory.intrinsic+json": {
              "type": "dataframe",
              "variable_name": "data",
              "summary": "{\n  \"name\": \"data\",\n  \"rows\": 10,\n  \"fields\": [\n    {\n      \"column\": \"title\",\n      \"properties\": {\n        \"dtype\": \"string\",\n        \"num_unique_values\": 10,\n        \"samples\": [\n          \"\\u041f\\u0440\\u0435\\u0434\\u0441\\u0442\\u0430\\u0432\\u043b\\u0435\\u043d \\u043f\\u0440\\u043e\\u0435\\u043a\\u0442\\u043e\\u0440 Picoflix \\u2014 \\u0432 \\u0444\\u043e\\u0440\\u043c\\u0435 \\u0446\\u0438\\u043b\\u0438\\u043d\\u0434\\u0440\\u0430, \\u043d\\u043e \\u043e\\u0447\\u0435\\u043d\\u044c \\u0443\\u0441\\u0442\\u043e\\u0439\\u0447\\u0438\\u0432\\u044b\\u0439\",\n          \"\\u041a\\u0430\\u043a \\u0432\\u044b\\u0431\\u0440\\u0430\\u0442\\u044c \\u0445\\u043e\\u0440\\u043e\\u0448\\u0438\\u0439 \\u0443\\u0442\\u044e\\u0433 \\u0434\\u043b\\u044f \\u0434\\u043e\\u043c\\u0430\",\n          \"Tesla \\u043f\\u0440\\u0435\\u0434\\u0441\\u0442\\u0430\\u0432\\u0438\\u043b\\u0430 \\u0440\\u043e\\u0431\\u043e\\u0442\\u0430\\u043a\\u0441\\u0438 Cybercab \\u0438 \\u043c\\u0430\\u0440\\u0448\\u0440\\u0443\\u0442\\u043a\\u0443 \\u0432 \\u043a\\u0438\\u0431\\u0435\\u0440\\u043f\\u0430\\u043d\\u043a-\\u0441\\u0442\\u0438\\u043b\\u0435 Robovan\"\n        ],\n        \"semantic_type\": \"\",\n        \"description\": \"\"\n      }\n    },\n    {\n      \"column\": \"text\",\n      \"properties\": {\n        \"dtype\": \"string\",\n        \"num_unique_values\": 10,\n        \"samples\": [\n          \"\\u041a\\u043e\\u043c\\u043f\\u0430\\u043d\\u0438\\u044f JMGO \\u043f\\u0440\\u0435\\u0434\\u0441\\u0442\\u0430\\u0432\\u0438\\u043b\\u0430 \\u043d\\u043e\\u0432\\u044b\\u0439 \\u043f\\u0440\\u043e\\u0435\\u043a\\u0442\\u043e\\u0440 \\u043f\\u043e\\u0434 \\u043d\\u0430\\u0437\\u0432\\u0430\\u043d\\u0438\\u0435\\u043c Picoflix. \\u041e\\u043d \\u0438\\u043c\\u0435\\u0435\\u0442 \\u0446\\u0438\\u043b\\u0438\\u043d\\u0434\\u0440\\u0438\\u0447\\u0435\\u0441\\u043a\\u0443\\u044e \\u0444\\u043e\\u0440\\u043c\\u0443, \\u0440\\u0430\\u0441\\u043f\\u043e\\u043b\\u0430\\u0433\\u0430\\u0435\\u0442\\u0441\\u044f \\u043d\\u0430 \\u043f\\u043e\\u0432\\u0435\\u0440\\u0445\\u043d\\u043e\\u0441\\u0442\\u0438 \\u0433\\u043e\\u0440\\u0438\\u0437\\u043e\\u043d\\u0442\\u0430\\u043b\\u044c\\u043d\\u043e \\u0438 \\u043e\\u0441\\u043d\\u0430\\u0449\\u0451\\u043d \\u043d\\u043e\\u0436\\u043a\\u043e\\u0439 \\u0434\\u043b\\u044f \\u0443\\u0441\\u0442\\u043e\\u0439\\u0447\\u0438\\u0432\\u043e\\u0441\\u0442\\u0438, \\u043f\\u043e\\u044d\\u0442\\u043e\\u043c\\u0443 \\u0432\\u0435\\u0440\\u043e\\u044f\\u0442\\u043d\\u043e\\u0441\\u0442\\u044c \\u0435\\u0433\\u043e \\u043f\\u0430\\u0434\\u0435\\u043d\\u0438\\u044f \\u0441\\u0442\\u0440\\u0435\\u043c\\u0438\\u0442\\u0441\\u044f \\u043a \\u043d\\u0443\\u043b\\u044e. \\u0423\\u0441\\u0442\\u0440\\u043e\\u0439\\u0441\\u0442\\u0432\\u043e \\u043c\\u043e\\u0436\\u0435\\u0442 \\u043f\\u043e\\u0445\\u0432\\u0430\\u0441\\u0442\\u0430\\u0442\\u044c\\u0441\\u044f \\u0432\\u0440\\u0430\\u0449\\u0430\\u044e\\u0449\\u0438\\u043c\\u0441\\u044f \\u043a\\u0430\\u0440\\u0434\\u0430\\u043d\\u043e\\u043c, \\u043f\\u043e\\u044d\\u0442\\u043e\\u043c\\u0443 \\u043f\\u0440\\u0430\\u0432\\u0438\\u043b\\u044c\\u043d\\u043e \\u043d\\u0430\\u043f\\u0440\\u0430\\u0432\\u0438\\u0442\\u044c \\u0438\\u0437\\u043e\\u0431\\u0440\\u0430\\u0436\\u0435\\u043d\\u0438\\u0435 \\u043d\\u0430 \\u0441\\u0442\\u0435\\u043d\\u0443 \\u043d\\u0435 \\u0441\\u043e\\u0441\\u0442\\u0430\\u0432\\u0438\\u0442 \\u043d\\u0438\\u043a\\u0430\\u043a\\u0438\\u0445 \\u043f\\u0440\\u043e\\u0431\\u043b\\u0435\\u043c.Picoflix \\u0438\\u0441\\u043f\\u043e\\u043b\\u044c\\u0437\\u0443\\u0435\\u0442 LED-\\u0438\\u0441\\u0442\\u043e\\u0447\\u043d\\u0438\\u043a \\u0441\\u0432\\u0435\\u0442\\u0430 \\u0441 \\u0440\\u0430\\u0437\\u0440\\u0435\\u0448\\u0435\\u043d\\u0438\\u0435\\u043c 1080p \\u0438 \\u0441\\u043f\\u043e\\u0441\\u043e\\u0431\\u0435\\u043d \\u0432\\u044b\\u0434\\u0430\\u0432\\u0430\\u0442\\u044c \\u043a\\u0430\\u0440\\u0442\\u0438\\u043d\\u043a\\u0443 \\u0441 \\u044f\\u0440\\u043a\\u043e\\u0441\\u0442\\u044c\\u044e \\u0434\\u043e 450 ANSI-\\u043b\\u044e\\u043c\\u0435\\u043d. \\u042d\\u0442\\u043e \\u043c\\u0435\\u043d\\u044c\\u0448\\u0435, \\u0447\\u0435\\u043c \\u0443 \\u0434\\u0440\\u0443\\u0433\\u0438\\u0445 \\u043f\\u0440\\u043e\\u0435\\u043a\\u0442\\u043e\\u0440\\u043e\\u0432 \\u0442\\u0430\\u043a\\u043e\\u0433\\u043e \\u0440\\u0430\\u0437\\u043c\\u0435\\u0440\\u0430 \\u2014 \\u0435\\u0433\\u043e \\u0434\\u043b\\u0438\\u043d\\u0430 \\u0441\\u043e\\u0441\\u0442\\u0430\\u0432\\u043b\\u044f\\u0435\\u0442 \\u043e\\u043a\\u043e\\u043b\\u043e 24 \\u0441\\u0430\\u043d\\u0442\\u0438\\u043c\\u0435\\u0442\\u0440\\u043e\\u0432, \\u2014 \\u043d\\u043e \\u0432\\u0441\\u0451 \\u0435\\u0449\\u0451 \\u0434\\u043e\\u0441\\u0442\\u0430\\u0442\\u043e\\u0447\\u043d\\u043e \\u0434\\u043b\\u044f \\u043a\\u043e\\u043c\\u0444\\u043e\\u0440\\u0442\\u043d\\u043e\\u0433\\u043e \\u043f\\u0440\\u043e\\u0441\\u043c\\u043e\\u0442\\u0440\\u0430 \\u0432 \\u0442\\u0451\\u043c\\u043d\\u044b\\u0445 \\u0443\\u0441\\u043b\\u043e\\u0432\\u0438\\u044f\\u0445.\\u0412\\u043e\\u0437\\u043c\\u043e\\u0436\\u043d\\u043e\\u0441\\u0442\\u044c \\u043f\\u043e\\u0432\\u043e\\u0440\\u043e\\u0442\\u0430 \\u043e\\u0431\\u044a\\u0435\\u043a\\u0442\\u0438\\u0432\\u0430 \\u043f\\u0440\\u043e\\u0435\\u043a\\u0442\\u043e\\u0440\\u0430 \\u043d\\u0430 127 \\u0433\\u0440\\u0430\\u0434\\u0443\\u0441\\u043e\\u0432 \\u043e\\u0431\\u0435\\u0441\\u043f\\u0435\\u0447\\u0438\\u0432\\u0430\\u0435\\u0442 \\u0431\\u043e\\u043b\\u044c\\u0448\\u0443\\u044e \\u0433\\u0438\\u0431\\u043a\\u043e\\u0441\\u0442\\u044c \\u043f\\u0440\\u0438 \\u0432\\u044b\\u0431\\u043e\\u0440\\u0435 \\u043c\\u0435\\u0441\\u0442\\u0430 \\u0443\\u0441\\u0442\\u0430\\u043d\\u043e\\u0432\\u043a\\u0438. \\u0423\\u0441\\u0442\\u0440\\u043e\\u0439\\u0441\\u0442\\u0432\\u043e \\u043c\\u043e\\u0436\\u043d\\u043e \\u043f\\u043e\\u0441\\u0442\\u0430\\u0432\\u0438\\u0442\\u044c \\u0433\\u043e\\u0440\\u0430\\u0437\\u0434\\u043e \\u043d\\u0438\\u0436\\u0435 \\u0442\\u043e\\u0433\\u043e \\u043c\\u0435\\u0441\\u0442\\u0430, \\u043d\\u0430 \\u043a\\u043e\\u0442\\u043e\\u0440\\u043e\\u0435 \\u0432\\u044b\\u0432\\u043e\\u0434\\u0438\\u0442\\u0441\\u044f \\u043a\\u0430\\u0440\\u0442\\u0438\\u043d\\u043a\\u0430, \\u0430 \\u0444\\u0438\\u0440\\u043c\\u0435\\u043d\\u043d\\u0430\\u044f \\u0442\\u0435\\u0445\\u043d\\u043e\\u043b\\u043e\\u0433\\u0438\\u044f \\u043a\\u043e\\u043c\\u043f\\u0430\\u043d\\u0438\\u0438 \\u043f\\u043e\\u043c\\u043e\\u0436\\u0435\\u0442 \\u0432\\u044b\\u0440\\u0430\\u0432\\u043d\\u044f\\u0442\\u044c \\u0438\\u0437\\u043e\\u0431\\u0440\\u0430\\u0436\\u0435\\u043d\\u0438\\u0435.\\u041f\\u0440\\u043e\\u0435\\u043a\\u0442\\u043e\\u0440 \\u043e\\u0441\\u043d\\u0430\\u0449\\u0451\\u043d \\u0430\\u043a\\u043a\\u0443\\u043c\\u0443\\u043b\\u044f\\u0442\\u043e\\u0440\\u043e\\u043c \\u043d\\u0430 10 000 \\u043c\\u0410\\u00b7\\u0447. \\u0412 \\u044d\\u043a\\u043e-\\u0440\\u0435\\u0436\\u0438\\u043c\\u0435 \\u0443\\u0441\\u0442\\u0440\\u043e\\u0439\\u0441\\u0442\\u0432\\u043e \\u043c\\u043e\\u0436\\u0435\\u0442 \\u043f\\u0440\\u043e\\u0440\\u0430\\u0431\\u043e\\u0442\\u0430\\u0442\\u044c \\u0434\\u043e \\u0447\\u0435\\u0442\\u044b\\u0440\\u0451\\u0445 \\u0441 \\u043f\\u043e\\u043b\\u043e\\u0432\\u0438\\u043d\\u043e\\u0439 \\u0447\\u0430\\u0441\\u043e\\u0432. \\u041f\\u0440\\u0438 \\u043f\\u0440\\u043e\\u0441\\u043c\\u043e\\u0442\\u0440\\u0435 \\u0444\\u0438\\u043b\\u044c\\u043c\\u043e\\u0432 \\u043d\\u0430 \\u043f\\u043e\\u043b\\u043d\\u043e\\u0439 \\u044f\\u0440\\u043a\\u043e\\u0441\\u0442\\u0438 Picoflix \\u043b\\u0443\\u0447\\u0448\\u0435 \\u043f\\u043e\\u0434\\u043a\\u043b\\u044e\\u0447\\u0430\\u0442\\u044c \\u043a \\u0440\\u043e\\u0437\\u0435\\u0442\\u043a\\u0435.\\u041d\\u043e\\u0432\\u0438\\u043d\\u043a\\u0430 \\u043e\\u0441\\u043d\\u0430\\u0449\\u0435\\u043d\\u0430 \\u043f\\u043e\\u0440\\u0442\\u043e\\u043c HDMI 2.1 \\u0441 \\u043f\\u043e\\u0434\\u0434\\u0435\\u0440\\u0436\\u043a\\u043e\\u0439 eARC, \\u043f\\u0430\\u0440\\u043e\\u0439 \\u0440\\u0430\\u0437\\u044a\\u0451\\u043c\\u043e\\u0432 USB-A \\u0438 \\u043e\\u0434\\u043d\\u0438\\u043c USB-C. \\u041c\\u043e\\u0436\\u043d\\u043e \\u0432\\u043e\\u0441\\u043f\\u0440\\u043e\\u0438\\u0437\\u0432\\u043e\\u0434\\u0438\\u0442\\u044c \\u043a\\u043e\\u043d\\u0442\\u0435\\u043d\\u0442 \\u0441 \\u0432\\u043d\\u0435\\u0448\\u043d\\u0435\\u0433\\u043e \\u0434\\u0438\\u0441\\u043a\\u0430, \\u043d\\u043e Picoflix \\u043f\\u043e\\u0434\\u0434\\u0435\\u0440\\u0436\\u0438\\u0432\\u0430\\u0435\\u0442 Wi-Fi 6 \\u0438 \\u0440\\u0430\\u0431\\u043e\\u0442\\u0430\\u0435\\u0442 \\u043d\\u0430 Google TV, \\u0442\\u0430\\u043a \\u0447\\u0442\\u043e \\u0435\\u0441\\u0442\\u044c \\u0432\\u043e\\u0437\\u043c\\u043e\\u0436\\u043d\\u043e\\u0441\\u0442\\u044c \\u0441\\u043c\\u043e\\u0442\\u0440\\u0435\\u0442\\u044c \\u0444\\u0438\\u043b\\u044c\\u043c\\u044b \\u0438 \\u0441\\u0435\\u0440\\u0438\\u0430\\u043b\\u044b \\u0441\\u043e \\u0441\\u0442\\u0440\\u0438\\u043c\\u0438\\u043d\\u0433\\u043e\\u0432\\u044b\\u0445 \\u0441\\u0435\\u0440\\u0432\\u0438\\u0441\\u043e\\u0432.\\u0422\\u0430\\u043a\\u0436\\u0435 \\u043f\\u0440\\u043e\\u0435\\u043a\\u0442\\u043e\\u0440 \\u043c\\u043e\\u0436\\u043d\\u043e \\u0438\\u0441\\u043f\\u043e\\u043b\\u044c\\u0437\\u043e\\u0432\\u0430\\u0442\\u044c \\u0434\\u043b\\u044f \\u043f\\u0440\\u043e\\u0441\\u043b\\u0443\\u0448\\u0438\\u0432\\u0430\\u043d\\u0438\\u044f \\u043c\\u0443\\u0437\\u044b\\u043a\\u0438 \\u2014 \\u0435\\u0433\\u043e \\u0434\\u0438\\u043d\\u0430\\u043c\\u0438\\u043a \\u0438\\u043c\\u0435\\u0435\\u0442 \\u043c\\u043e\\u0449\\u043d\\u043e\\u0441\\u0442\\u044c 10 \\u0412\\u0442. \\u0423\\u0441\\u0442\\u0440\\u043e\\u0439\\u0441\\u0442\\u0432\\u043e \\u043f\\u043e\\u0434\\u0434\\u0435\\u0440\\u0436\\u0438\\u0432\\u0430\\u0435\\u0442 Bluetooth 5.4, \\u0430 \\u0437\\u0430\\u0440\\u044f\\u0434\\u0430 \\u0432 \\u0430\\u0443\\u0434\\u0438\\u043e\\u0440\\u0435\\u0436\\u0438\\u043c\\u0435 \\u0445\\u0432\\u0430\\u0442\\u0430\\u0435\\u0442 \\u043f\\u0440\\u0438\\u043c\\u0435\\u0440\\u043d\\u043e \\u043d\\u0430 \\u0441\\u0435\\u043c\\u044c \\u0447\\u0430\\u0441\\u043e\\u0432.\\u0421\\u0442\\u043e\\u0438\\u0442 Picoflix 599 \\u0434\\u043e\\u043b\\u043b\\u0430\\u0440\\u043e\\u0432 (\\u224858 400 \\u0440\\u0443\\u0431\\u043b\\u0435\\u0439).\",\n          \"\\u0423\\u0442\\u044e\\u0433\\u0438 \\u0431\\u044b\\u0432\\u0430\\u044e\\u0442 \\u043f\\u0430\\u0440\\u043e\\u0432\\u044b\\u043c\\u0438 \\u0438 \\u043e\\u0431\\u044b\\u0447\\u043d\\u044b\\u043c\\u0438, \\u0442\\u043e \\u0435\\u0441\\u0442\\u044c \\u0431\\u0435\\u0437 \\u0444\\u0443\\u043d\\u043a\\u0446\\u0438\\u0438 \\u043f\\u0430\\u0440\\u043e\\u043e\\u0431\\u0440\\u0430\\u0437\\u043e\\u0432\\u0430\\u043d\\u0438\\u044f.\\u00a0\\u0420\\u0430\\u0441\\u0441\\u043a\\u0430\\u0436\\u0435\\u043c, \\u0432 \\u0447\\u0451\\u043c \\u043e\\u0441\\u043e\\u0431\\u0435\\u043d\\u043d\\u043e\\u0441\\u0442\\u0438 \\u0440\\u0430\\u0437\\u043d\\u044b\\u0445 \\u0432\\u0430\\u0440\\u0438\\u0430\\u043d\\u0442\\u043e\\u0432. \\u042d\\u0442\\u043e \\u0441\\u0430\\u043c\\u044b\\u0439 \\u043f\\u0440\\u043e\\u0441\\u0442\\u043e\\u0439 \\u0432\\u0438\\u0434 \\u0443\\u0442\\u044e\\u0433\\u043e\\u0432, \\u0441\\u0435\\u0439\\u0447\\u0430\\u0441 \\u0442\\u0430\\u043a\\u0438\\u0435 \\u043f\\u043e\\u0447\\u0442\\u0438 \\u043d\\u0435 \\u043f\\u0440\\u043e\\u0438\\u0437\\u0432\\u043e\\u0434\\u044f\\u0442. \\u042d\\u0444\\u0444\\u0435\\u043a\\u0442\\u0438\\u0432\\u043d\\u043e\\u0441\\u0442\\u044c \\u044d\\u0442\\u0438\\u0445 \\u043c\\u043e\\u0434\\u0435\\u043b\\u0435\\u0439 \\u043d\\u0435\\u0432\\u044b\\u0441\\u043e\\u043a\\u0430, \\u0437\\u0430\\u0442\\u043e \\u043e\\u043d\\u0438 \\u0431\\u0435\\u0437 \\u0432\\u0441\\u044f\\u043a\\u0438\\u0445 \\u0437\\u0430\\u043c\\u043e\\u0440\\u043e\\u0447\\u0435\\u043a \\u2014 \\u0432\\u043a\\u043b\\u044e\\u0447\\u0438\\u043b \\u0432 \\u0441\\u0435\\u0442\\u044c, \\u043d\\u0430\\u0433\\u0440\\u0435\\u043b \\u0438 \\u0433\\u043b\\u0430\\u0434\\u044c. \\u0411\\u0435\\u0437 \\u043f\\u0430\\u0440\\u0430 \\u0438 \\u0434\\u043e\\u043f\\u043e\\u043b\\u043d\\u0438\\u0442\\u0435\\u043b\\u044c\\u043d\\u044b\\u0445 \\u0444\\u0443\\u043d\\u043a\\u0446\\u0438\\u0439. \\u041f\\u043e\\u0434\\u043e\\u0439\\u0434\\u0451\\u0442, \\u0435\\u0441\\u043b\\u0438 \\u0443 \\u0432\\u0430\\u0441 \\u043d\\u0435\\u0442 \\u043e\\u0434\\u0435\\u0436\\u0434\\u044b \\u0438 \\u0431\\u0435\\u043b\\u044c\\u044f \\u0438\\u0437 \\u0434\\u0435\\u043b\\u0438\\u043a\\u0430\\u0442\\u043d\\u044b\\u0445 \\u0442\\u043a\\u0430\\u043d\\u0435\\u0439 \\u0438\\u043b\\u0438 \\u0432\\u044b \\u043f\\u0440\\u043e\\u0441\\u0442\\u043e \\u043f\\u0440\\u0438\\u0432\\u044b\\u043a\\u043b\\u0438 \\u043a \\u0441\\u0442\\u0430\\u0440\\u044b\\u043c \\u0434\\u043e\\u0431\\u0440\\u044b\\u043c \\u043a\\u043b\\u0430\\u0441\\u0441\\u0438\\u0447\\u0435\\u0441\\u043a\\u0438\\u043c \\u0443\\u0442\\u044e\\u0433\\u0430\\u043c.\\u041a\\u043e\\u043c\\u043f\\u0430\\u043a\\u0442\\u043d\\u044b\\u0435 \\u0438 \\u043b\\u0451\\u0433\\u043a\\u0438\\u0435 \\u043c\\u043e\\u0434\\u0435\\u043b\\u0438, \\u043a\\u043e\\u0442\\u043e\\u0440\\u044b\\u0435 \\u0443\\u0434\\u043e\\u0431\\u043d\\u043e \\u0431\\u0440\\u0430\\u0442\\u044c \\u0441 \\u0441\\u043e\\u0431\\u043e\\u0439 \\u0432 \\u043f\\u043e\\u0435\\u0437\\u0434\\u043a\\u0438. \\u0423 \\u043d\\u0438\\u0445 \\u043c\\u043e\\u0436\\u0435\\u0442 \\u0431\\u044b\\u0442\\u044c \\u043d\\u0435\\u0434\\u043e\\u0441\\u0442\\u0430\\u0442\\u043e\\u0447\\u043d\\u043e \\u043c\\u043e\\u0449\\u043d\\u043e\\u0441\\u0442\\u0438 \\u0434\\u043b\\u044f \\u043f\\u043e\\u043b\\u043d\\u043e\\u0446\\u0435\\u043d\\u043d\\u043e\\u0433\\u043e \\u0433\\u043b\\u0430\\u0436\\u0435\\u043d\\u0438\\u044f, \\u043d\\u043e \\u0435\\u0451 \\u0432\\u043f\\u043e\\u043b\\u043d\\u0435 \\u0445\\u0432\\u0430\\u0442\\u0438\\u0442 \\u0434\\u043b\\u044f \\u044d\\u043a\\u0441\\u0442\\u0440\\u0435\\u043d\\u043d\\u043e\\u0439 \\u043f\\u043e\\u0434\\u0433\\u043e\\u0442\\u043e\\u0432\\u043a\\u0438 \\u0440\\u0443\\u0431\\u0430\\u0448\\u043a\\u0438 \\u043f\\u0435\\u0440\\u0435\\u0434 \\u0432\\u0430\\u0436\\u043d\\u043e\\u0439 \\u0432\\u0441\\u0442\\u0440\\u0435\\u0447\\u0435\\u0439.\\u041f\\u0440\\u0430\\u043a\\u0442\\u0438\\u0447\\u0435\\u0441\\u043a\\u0438 \\u0432\\u0441\\u0435 \\u0441\\u043e\\u0432\\u0440\\u0435\\u043c\\u0435\\u043d\\u043d\\u044b\\u0435 \\u0443\\u0442\\u044e\\u0433\\u0438 \\u0438\\u043c\\u0435\\u044e\\u0442 \\u0444\\u0443\\u043d\\u043a\\u0446\\u0438\\u044e \\u043f\\u043e\\u0434\\u0430\\u0447\\u0438 \\u043f\\u0430\\u0440\\u0430. \\u041e\\u043d\\u0438 \\u044d\\u0444\\u0444\\u0435\\u043a\\u0442\\u0438\\u0432\\u043d\\u043e \\u0441\\u043f\\u0440\\u0430\\u0432\\u043b\\u044f\\u044e\\u0442\\u0441\\u044f \\u0441 \\u0437\\u0430\\u043b\\u043e\\u043c\\u0430\\u043c\\u0438 \\u0438 \\u0441\\u043a\\u043b\\u0430\\u0434\\u043a\\u0430\\u043c\\u0438 \\u043d\\u0430 \\u0442\\u043a\\u0430\\u043d\\u044f\\u0445. \\u0414\\u043b\\u044f \\u0434\\u043e\\u043c\\u0430 \\u0442\\u0430\\u043a\\u0438\\u0435 \\u043c\\u043e\\u0434\\u0435\\u043b\\u0438 \\u043f\\u043e\\u0434\\u0445\\u043e\\u0434\\u044f\\u0442 \\u043e\\u0442\\u043b\\u0438\\u0447\\u043d\\u043e.\\u042d\\u0442\\u043e \\u0442\\u0430\\u043a \\u043d\\u0430\\u0437\\u044b\\u0432\\u0430\\u0435\\u043c\\u044b\\u0435 \\u043f\\u0430\\u0440\\u043e\\u0432\\u044b\\u0435 \\u0441\\u0442\\u0430\\u043d\\u0446\\u0438\\u0438: \\u043f\\u0430\\u0440 \\u0432\\u044b\\u0440\\u0430\\u0431\\u0430\\u0442\\u044b\\u0432\\u0430\\u0435\\u0442\\u0441\\u044f \\u0432 \\u0431\\u043e\\u043b\\u044c\\u0448\\u043e\\u0439 \\u043e\\u0442\\u0434\\u0435\\u043b\\u044c\\u043d\\u043e \\u0441\\u0442\\u043e\\u044f\\u0449\\u0435\\u0439 \\u0451\\u043c\\u043a\\u043e\\u0441\\u0442\\u0438 \\u0438 \\u043f\\u043e\\u0434\\u0430\\u0451\\u0442\\u0441\\u044f \\u0432 \\u0443\\u0442\\u044e\\u0433 \\u043f\\u043e \\u0448\\u043b\\u0430\\u043d\\u0433\\u0443.\\u041f\\u0430\\u0440\\u043e\\u0433\\u0435\\u043d\\u0435\\u0440\\u0430\\u0442\\u043e\\u0440\\u044b \\u0432\\u044b\\u0434\\u0430\\u044e\\u0442 \\u043c\\u043d\\u043e\\u0433\\u043e \\u043f\\u0430\\u0440\\u0430 \\u0438 \\u0441\\u043f\\u0440\\u0430\\u0432\\u043b\\u044f\\u044e\\u0442\\u0441\\u044f \\u0441 \\u0441\\u0430\\u043c\\u043e\\u0439 \\u043f\\u043b\\u043e\\u0442\\u043d\\u043e\\u0439 \\u0442\\u043a\\u0430\\u043d\\u044c\\u044e \\u2014 \\u043d\\u0430\\u043f\\u0440\\u0438\\u043c\\u0435\\u0440, \\u0441 \\u0434\\u0436\\u0438\\u043d\\u0441\\u0430\\u043c\\u0438 \\u0438\\u043b\\u0438 \\u0441\\u043a\\u0430\\u0442\\u0435\\u0440\\u0442\\u044f\\u043c\\u0438. \\u0421\\u043a\\u043b\\u0430\\u0434\\u043a\\u0438 \\u0438 \\u0437\\u0430\\u043b\\u043e\\u043c\\u044b \\u043e\\u043d\\u0438 \\u0440\\u0430\\u0441\\u043f\\u0440\\u0430\\u0432\\u043b\\u044f\\u044e\\u0442 \\u043d\\u0430\\u043c\\u043d\\u043e\\u0433\\u043e \\u0431\\u044b\\u0441\\u0442\\u0440\\u0435\\u0435 \\u043e\\u0431\\u044b\\u0447\\u043d\\u044b\\u0445 \\u043f\\u0430\\u0440\\u043e\\u0432\\u044b\\u0445 \\u0443\\u0442\\u044e\\u0433\\u043e\\u0432. \\u041d\\u043e \\u0438 \\u0441\\u0442\\u043e\\u044f\\u0442 \\u0434\\u043e\\u0440\\u043e\\u0436\\u0435.\\u0420\\u0430\\u0437\\u043d\\u044b\\u0435 \\u043c\\u043e\\u0434\\u0435\\u043b\\u0438 \\u0443\\u0442\\u044e\\u0433\\u043e\\u0432:\\u0427\\u0435\\u043c \\u043c\\u043e\\u0449\\u043d\\u0435\\u0435 \\u0443\\u0442\\u044e\\u0433, \\u0442\\u0435\\u043c \\u0431\\u044b\\u0441\\u0442\\u0440\\u0435\\u0435 \\u043e\\u043d \\u043d\\u0430\\u0433\\u0440\\u0435\\u0432\\u0430\\u0435\\u0442\\u0441\\u044f \\u0438 \\u043b\\u0435\\u0433\\u0447\\u0435 \\u0441\\u043f\\u0440\\u0430\\u0432\\u043b\\u044f\\u0435\\u0442\\u0441\\u044f \\u0441 \\u043f\\u043b\\u043e\\u0442\\u043d\\u044b\\u043c\\u0438 \\u0442\\u043a\\u0430\\u043d\\u044f\\u043c\\u0438. \\u041e\\u0442 \\u043c\\u0430\\u0442\\u0435\\u0440\\u0438\\u0430\\u043b\\u0430 \\u0433\\u043b\\u0430\\u0434\\u044f\\u0449\\u0435\\u0439 \\u043f\\u043e\\u0432\\u0435\\u0440\\u0445\\u043d\\u043e\\u0441\\u0442\\u0438 \\u0437\\u0430\\u0432\\u0438\\u0441\\u0438\\u0442, \\u043a\\u0430\\u043a \\u043b\\u0435\\u0433\\u043a\\u043e \\u0431\\u0443\\u0434\\u0435\\u0442 \\u043f\\u043e\\u043b\\u044c\\u0437\\u043e\\u0432\\u0430\\u0442\\u044c\\u0441\\u044f \\u0443\\u0442\\u044e\\u0433\\u043e\\u043c \\u0438 \\u0443\\u0445\\u0430\\u0436\\u0438\\u0432\\u0430\\u0442\\u044c \\u0437\\u0430 \\u043d\\u0438\\u043c, \\u0430 \\u0435\\u0449\\u0451 \\u0441\\u043a\\u043e\\u043b\\u044c\\u043a\\u043e \\u0432\\u0440\\u0435\\u043c\\u0435\\u043d\\u0438 \\u0443\\u0441\\u0442\\u0440\\u043e\\u0439\\u0441\\u0442\\u0432\\u043e \\u043f\\u0440\\u043e\\u0441\\u043b\\u0443\\u0436\\u0438\\u0442. \\u0423 \\u043a\\u0430\\u0436\\u0434\\u043e\\u0433\\u043e \\u0438\\u0437 \\u043c\\u0430\\u0442\\u0435\\u0440\\u0438\\u0430\\u043b\\u043e\\u0432 \\u0441\\u0432\\u043e\\u0438 \\u043f\\u043b\\u044e\\u0441\\u044b \\u0438 \\u043c\\u0438\\u043d\\u0443\\u0441\\u044b.\\u00a0\\u0415\\u0449\\u0451 \\u0435\\u0441\\u0442\\u044c \\u043c\\u043e\\u0434\\u0435\\u043b\\u0438 \\u0441 \\u0434\\u0432\\u043e\\u0439\\u043d\\u044b\\u043c\\u0438 \\u043f\\u043e\\u0434\\u043e\\u0448\\u0432\\u0430\\u043c\\u0438, \\u043a\\u043e\\u0433\\u0434\\u0430 \\u043d\\u0430 \\u043e\\u0441\\u043d\\u043e\\u0432\\u043d\\u0443\\u044e \\u043d\\u0430\\u0434\\u0435\\u0432\\u0430\\u0435\\u0442\\u0441\\u044f \\u043d\\u0430\\u0441\\u0430\\u0434\\u043a\\u0430 \\u0434\\u043b\\u044f \\u0433\\u043b\\u0430\\u0436\\u0435\\u043d\\u0438\\u044f \\u0434\\u0435\\u043b\\u0438\\u043a\\u0430\\u0442\\u043d\\u044b\\u0445 \\u0442\\u043a\\u0430\\u043d\\u0435\\u0439. \\u041e\\u043f\\u0440\\u0435\\u0434\\u0435\\u043b\\u0438\\u0432\\u0448\\u0438\\u0441\\u044c \\u0441 \\u043c\\u0430\\u0442\\u0435\\u0440\\u0438\\u0430\\u043b\\u043e\\u043c \\u043f\\u043e\\u0434\\u043e\\u0448\\u0432\\u044b, \\u043f\\u043e\\u0441\\u043c\\u043e\\u0442\\u0440\\u0438\\u0442\\u0435 \\u043d\\u0430 \\u0435\\u0451 \\u0444\\u043e\\u0440\\u043c\\u0443. \\u041d\\u0430 \\u043f\\u043e\\u0434\\u043e\\u0448\\u0432\\u0435 \\u043f\\u0430\\u0440\\u043e\\u0432\\u044b\\u0445 \\u0443\\u0442\\u044e\\u0433\\u043e\\u0432 \\u0435\\u0441\\u0442\\u044c \\u043e\\u0442\\u0432\\u0435\\u0440\\u0441\\u0442\\u0438\\u044f \\u0434\\u043b\\u044f \\u043f\\u043e\\u0434\\u0430\\u0447\\u0438 \\u043f\\u0430\\u0440\\u0430. \\u041c\\u0430\\u043b\\u0435\\u043d\\u044c\\u043a\\u0438\\u0435 \\u2014 \\u043d\\u0430 \\u043d\\u043e\\u0441\\u0438\\u043a\\u0435 \\u0438 \\u043f\\u044f\\u0442\\u043a\\u0435, \\u043a\\u0440\\u0443\\u043f\\u043d\\u044b\\u0435 \\u2014 \\u043f\\u043e \\u0431\\u043e\\u043a\\u0430\\u043c. \\u0427\\u0435\\u043c \\u0438\\u0445 \\u0431\\u043e\\u043b\\u044c\\u0448\\u0435, \\u0442\\u0435\\u043c \\u043b\\u0443\\u0447\\u0448\\u0435. \\u0422\\u0430\\u043a\\u0436\\u0435 \\u0445\\u043e\\u0440\\u043e\\u0448\\u043e, \\u0435\\u0441\\u043b\\u0438 \\u0435\\u0441\\u0442\\u044c \\u0436\\u0435\\u043b\\u043e\\u0431\\u043a\\u0438. \\u041e\\u043d\\u0438 \\u043f\\u043e\\u043c\\u043e\\u0433\\u0430\\u044e\\u0442 \\u043f\\u0430\\u0440\\u0443 \\u0440\\u0430\\u0441\\u043f\\u0440\\u0435\\u0434\\u0435\\u043b\\u044f\\u0442\\u044c\\u0441\\u044f \\u0440\\u0430\\u0432\\u043d\\u043e\\u043c\\u0435\\u0440\\u043d\\u043e.\\u0427\\u0435\\u043c \\u0431\\u043e\\u043b\\u044c\\u0448\\u0435 \\u043f\\u043b\\u043e\\u0449\\u0430\\u0434\\u044c \\u0443\\u0442\\u044e\\u0433\\u0430, \\u0442\\u0435\\u043c \\u0431\\u044b\\u0441\\u0442\\u0440\\u0435\\u0435\\u00a0\\u043f\\u0440\\u043e\\u0446\\u0435\\u0441\\u0441 \\u0433\\u043b\\u0430\\u0436\\u043a\\u0438. \\u0427\\u0435\\u043c \\u043e\\u0441\\u0442\\u0440\\u0435\\u0435 \\u043d\\u043e\\u0441\\u0438\\u043a, \\u0442\\u0435\\u043c \\u043f\\u0440\\u043e\\u0449\\u0435 \\u0433\\u043b\\u0430\\u0434\\u0438\\u0442\\u044c \\u0432\\u043e\\u0440\\u043e\\u0442\\u043d\\u0438\\u043a\\u0438, \\u043c\\u0430\\u043d\\u0436\\u0435\\u0442\\u044b \\u0438 \\u043c\\u0435\\u0436\\u0434\\u0443 \\u043f\\u0443\\u0433\\u043e\\u0432\\u0438\\u0446.\\u0423\\u0442\\u044e\\u0433\\u0438 \\u0441 \\u043f\\u043e\\u0434\\u043e\\u0448\\u0432\\u0430\\u043c\\u0438 \\u0438\\u0437 \\u0440\\u0430\\u0437\\u043d\\u044b\\u0445 \\u043c\\u0430\\u0442\\u0435\\u0440\\u0438\\u0430\\u043b\\u043e\\u0432:\\u041a\\u0430\\u0436\\u0434\\u044b\\u0439 \\u0443\\u0442\\u044e\\u0433 \\u043f\\u0440\\u0435\\u0434\\u043b\\u0430\\u0433\\u0430\\u0435\\u0442 \\u0441\\u0432\\u043e\\u0439 \\u043d\\u0430\\u0431\\u043e\\u0440 \\u0444\\u0443\\u043d\\u043a\\u0446\\u0438\\u0439. \\u0412\\u043e\\u0442 \\u0442\\u0435, \\u043d\\u0430 \\u043a\\u043e\\u0442\\u043e\\u0440\\u044b\\u0435 \\u0441\\u0442\\u043e\\u0438\\u0442 \\u043e\\u0431\\u0440\\u0430\\u0442\\u0438\\u0442\\u044c \\u0432\\u043d\\u0438\\u043c\\u0430\\u043d\\u0438\\u0435.\\u041a\\u043e\\u0433\\u0434\\u0430 \\u043d\\u0430\\u0434\\u043e \\u043c\\u043e\\u043c\\u0435\\u043d\\u0442\\u0430\\u043b\\u044c\\u043d\\u043e \\u0440\\u0430\\u0437\\u0433\\u043b\\u0430\\u0434\\u0438\\u0442\\u044c \\u0441\\u043b\\u043e\\u0436\\u043d\\u044b\\u0435 \\u043c\\u0435\\u0441\\u0442\\u0430 \\u2014 \\u043f\\u0430\\u0440\\u043e\\u0432\\u043e\\u0439 \\u0443\\u0434\\u0430\\u0440 \\u043d\\u0435\\u0437\\u0430\\u043c\\u0435\\u043d\\u0438\\u043c. \\u041e\\u043d \\u0432\\u044b\\u0431\\u0440\\u0430\\u0441\\u044b\\u0432\\u0430\\u0435\\u0442 \\u0441\\u0438\\u043b\\u044c\\u043d\\u0443\\u044e \\u0441\\u0442\\u0440\\u0443\\u044e \\u043f\\u0430\\u0440\\u0430, \\u043a\\u043e\\u0442\\u043e\\u0440\\u0430\\u044f \\u043f\\u043e\\u043c\\u043e\\u0436\\u0435\\u0442 \\u0441\\u043f\\u0440\\u0430\\u0432\\u0438\\u0442\\u044c\\u0441\\u044f \\u0441 \\u043f\\u043b\\u043e\\u0442\\u043d\\u043e\\u0439 \\u0442\\u043a\\u0430\\u043d\\u044c\\u044e \\u0438\\u043b\\u0438 \\u0436\\u0451\\u0441\\u0442\\u043a\\u0438\\u043c\\u0438 \\u0433\\u043b\\u0443\\u0431\\u043e\\u043a\\u0438\\u043c\\u0438 \\u0441\\u043a\\u043b\\u0430\\u0434\\u043a\\u0430\\u043c\\u0438.\\u0427\\u0435\\u043c \\u0431\\u043e\\u043b\\u044c\\u0448\\u0435 \\u0432\\u043e\\u0434\\u044b \\u0437\\u0430 \\u043c\\u0438\\u043d\\u0443\\u0442\\u0443 \\u043f\\u0440\\u0435\\u043e\\u0431\\u0440\\u0430\\u0437\\u0443\\u0435\\u0442\\u0441\\u044f \\u0432 \\u043f\\u0430\\u0440, \\u0442\\u0435\\u043c \\u043b\\u0435\\u0433\\u0447\\u0435 \\u0440\\u0430\\u0437\\u0433\\u043b\\u0430\\u0436\\u0438\\u0432\\u0430\\u0442\\u044c \\u043f\\u043b\\u043e\\u0442\\u043d\\u044b\\u0435 \\u0442\\u043a\\u0430\\u043d\\u0438 \\u0438 \\u0441\\u0438\\u043b\\u044c\\u043d\\u043e \\u0438\\u0437\\u043c\\u044f\\u0442\\u044b\\u0435 \\u0432\\u0435\\u0449\\u0438. \\u041f\\u0440\\u0435\\u0438\\u043c\\u0443\\u0449\\u0435\\u0441\\u0442\\u0432\\u043e \\u0443\\u0442\\u044e\\u0433\\u043e\\u0432 \\u0441 \\u043f\\u043e\\u0441\\u0442\\u043e\\u044f\\u043d\\u043d\\u043e\\u0439 \\u043f\\u043e\\u0434\\u0430\\u0447\\u0435\\u0439 \\u043f\\u0430\\u0440\\u0430 \\u043e\\u0441\\u043e\\u0431\\u0435\\u043d\\u043d\\u043e \\u0437\\u0430\\u043c\\u0435\\u0442\\u043d\\u043e \\u043f\\u0440\\u0438 \\u0433\\u043b\\u0430\\u0436\\u043a\\u0435 \\u0445\\u043b\\u043e\\u043f\\u043a\\u0430 \\u0438 \\u043b\\u044c\\u043d\\u0430. \\u041a\\u0440\\u043e\\u043c\\u0435 \\u0442\\u043e\\u0433\\u043e, \\u0442\\u0430\\u043a\\u0438\\u0435 \\u043c\\u043e\\u0434\\u0435\\u043b\\u0438 \\u043c\\u043e\\u0436\\u043d\\u043e \\u0438\\u0441\\u043f\\u043e\\u043b\\u044c\\u0437\\u043e\\u0432\\u0430\\u0442\\u044c \\u0432 \\u043a\\u0430\\u0447\\u0435\\u0441\\u0442\\u0432\\u0435 \\u043e\\u0442\\u043f\\u0430\\u0440\\u0438\\u0432\\u0430\\u0442\\u0435\\u043b\\u044f.\\u042d\\u0442\\u0430 \\u0444\\u0443\\u043d\\u043a\\u0446\\u0438\\u044f \\u0432\\u043c\\u0435\\u0441\\u0442\\u0435 \\u0441 \\u043f\\u043e\\u0441\\u0442\\u043e\\u044f\\u043d\\u043d\\u043e\\u0439 \\u043f\\u043e\\u0434\\u0430\\u0447\\u0435\\u0439 \\u043f\\u0430\\u0440\\u0430 \\u043f\\u043e\\u0437\\u0432\\u043e\\u043b\\u0438\\u0442 \\u0432\\u0430\\u043c \\u043e\\u0442\\u043f\\u0430\\u0440\\u0438\\u0432\\u0430\\u0442\\u044c \\u0432\\u0435\\u0449\\u0438 \\u043f\\u0440\\u044f\\u043c\\u043e \\u043d\\u0430 \\u0432\\u0435\\u0448\\u0430\\u043b\\u043a\\u0435. \\u041e\\u0447\\u0435\\u043d\\u044c \\u0443\\u0434\\u043e\\u0431\\u043d\\u043e, \\u043a\\u043e\\u0433\\u0434\\u0430 \\u043d\\u0435 \\u0445\\u043e\\u0447\\u0435\\u0442\\u0441\\u044f \\u0434\\u043e\\u0441\\u0442\\u0430\\u0432\\u0430\\u0442\\u044c \\u0433\\u043b\\u0430\\u0434\\u0438\\u043b\\u044c\\u043d\\u0443\\u044e \\u0434\\u043e\\u0441\\u043a\\u0443 \\u0440\\u0430\\u0434\\u0438 \\u043e\\u0434\\u043d\\u043e\\u0433\\u043e \\u043f\\u043b\\u0430\\u0442\\u044c\\u044f \\u0438\\u043b\\u0438 \\u043f\\u0438\\u0434\\u0436\\u0430\\u043a\\u0430. \\u0418 \\u0441\\u043e\\u0432\\u0435\\u0440\\u0448\\u0435\\u043d\\u043d\\u043e \\u043d\\u0435\\u0437\\u0430\\u043c\\u0435\\u043d\\u0438\\u043c\\u043e, \\u043a\\u043e\\u0433\\u0434\\u0430 \\u043d\\u0443\\u0436\\u043d\\u043e \\u043f\\u043e\\u0433\\u043b\\u0430\\u0434\\u0438\\u0442\\u044c \\u0447\\u0442\\u043e-\\u0442\\u043e \\u043e\\u0431\\u044a\\u0451\\u043c\\u043d\\u043e\\u0435, \\u043d\\u0430\\u043f\\u0440\\u0438\\u043c\\u0435\\u0440 \\u0448\\u0442\\u043e\\u0440\\u044b \\u0438\\u043b\\u0438 \\u043f\\u0440\\u043e\\u0441\\u0442\\u044b\\u043d\\u0438.\\u0427\\u0442\\u043e\\u0431\\u044b \\u0440\\u0430\\u0437\\u0433\\u043b\\u0430\\u0434\\u0438\\u0442\\u044c \\u043d\\u0435\\u043a\\u043e\\u0442\\u043e\\u0440\\u044b\\u0435 \\u0432\\u0435\\u0449\\u0438, \\u0438\\u0445 \\u043d\\u0443\\u0436\\u043d\\u043e \\u0441\\u043c\\u043e\\u0447\\u0438\\u0442\\u044c. \\u041f\\u0440\\u0438 \\u043d\\u0430\\u043b\\u0438\\u0447\\u0438\\u0438 \\u044d\\u0442\\u043e\\u0439 \\u0444\\u0443\\u043d\\u043a\\u0446\\u0438\\u0438 \\u043d\\u0435 \\u043f\\u0440\\u0438\\u0434\\u0451\\u0442\\u0441\\u044f \\u0438\\u0441\\u043f\\u043e\\u043b\\u044c\\u0437\\u043e\\u0432\\u0430\\u0442\\u044c \\u043f\\u0443\\u043b\\u044c\\u0432\\u0435\\u0440\\u0438\\u0437\\u0430\\u0442\\u043e\\u0440. \\u0423\\u0447\\u0442\\u0438\\u0442\\u0435, \\u0447\\u0442\\u043e \\u043f\\u0440\\u0438 \\u0433\\u043b\\u0430\\u0436\\u043a\\u0435 \\u0448\\u0451\\u043b\\u043a\\u0430, \\u0432\\u0438\\u0441\\u043a\\u043e\\u0437\\u044b \\u0438 \\u0430\\u0442\\u043b\\u0430\\u0441\\u0430 \\u0431\\u0440\\u044b\\u0437\\u0433\\u0430\\u0442\\u044c \\u0432\\u043e\\u0434\\u0443 \\u043d\\u0430 \\u0442\\u043a\\u0430\\u043d\\u044c \\u043d\\u0435\\u043b\\u044c\\u0437\\u044f.\\u0424\\u0443\\u043d\\u043a\\u0446\\u0438\\u044f \\u0434\\u043b\\u044f \\u0442\\u0435\\u0445, \\u043a\\u0442\\u043e, \\u0432\\u044b\\u0445\\u043e\\u0434\\u044f \\u0438\\u0437 \\u0434\\u043e\\u043c\\u0430, \\u0437\\u0430\\u0434\\u0430\\u0451\\u0442\\u0441\\u044f \\u0432\\u043e\\u043f\\u0440\\u043e\\u0441\\u043e\\u043c: \\u00ab\\u0412\\u044b\\u043a\\u043b\\u044e\\u0447\\u0438\\u043b \\u043b\\u0438 \\u044f \\u0443\\u0442\\u044e\\u0433?\\u00bb \\u0415\\u0441\\u043b\\u0438 \\u043f\\u0440\\u0438\\u0431\\u043e\\u0440 \\u043d\\u0435\\u043f\\u043e\\u0434\\u0432\\u0438\\u0436\\u0435\\u043d \\u0432 \\u0433\\u043e\\u0440\\u0438\\u0437\\u043e\\u043d\\u0442\\u0430\\u043b\\u044c\\u043d\\u043e\\u043c \\u043f\\u043e\\u043b\\u043e\\u0436\\u0435\\u043d\\u0438\\u0438 30 \\u0438 \\u0431\\u043e\\u043b\\u0435\\u0435 \\u0441\\u0435\\u043a\\u0443\\u043d\\u0434, \\u043e\\u043d \\u043e\\u0442\\u043a\\u043b\\u044e\\u0447\\u0438\\u0442\\u0441\\u044f. \\u0415\\u0441\\u043b\\u0438 \\u0443\\u0441\\u0442\\u0440\\u043e\\u0439\\u0441\\u0442\\u0432\\u043e \\u043d\\u0435 \\u0438\\u0441\\u043f\\u043e\\u043b\\u044c\\u0437\\u0443\\u0435\\u0442\\u0441\\u044f 10\\u201315 \\u043c\\u0438\\u043d\\u0443\\u0442, \\u043f\\u0440\\u043e\\u0438\\u0437\\u043e\\u0439\\u0434\\u0451\\u0442 \\u0442\\u043e \\u0436\\u0435 \\u0441\\u0430\\u043c\\u043e\\u0435.\\u041d\\u0435\\u043a\\u043e\\u0442\\u043e\\u0440\\u044b\\u0435 \\u0443\\u0442\\u044e\\u0433\\u0438 \\u043c\\u043e\\u0433\\u0443\\u0442 \\u043a\\u0430\\u043a\\u043e\\u0435-\\u0442\\u043e \\u0432\\u0440\\u0435\\u043c\\u044f \\u0440\\u0430\\u0431\\u043e\\u0442\\u0430\\u0442\\u044c \\u0431\\u0435\\u0437 \\u043f\\u0440\\u043e\\u0432\\u043e\\u0434\\u0430. \\u041d\\u043e \\u044d\\u0442\\u043e \\u0432\\u043e\\u0437\\u043c\\u043e\\u0436\\u043d\\u043e \\u043d\\u0435 \\u0438\\u0437-\\u0437\\u0430 \\u0438\\u0441\\u043f\\u043e\\u043b\\u044c\\u0437\\u043e\\u0432\\u0430\\u043d\\u0438\\u044f \\u0430\\u043a\\u043a\\u0443\\u043c\\u0443\\u043b\\u044f\\u0442\\u043e\\u0440\\u0430, \\u0430 \\u0438\\u0437-\\u0437\\u0430 \\u0442\\u043e\\u0433\\u043e, \\u0447\\u0442\\u043e \\u043f\\u043e\\u0434\\u043e\\u0448\\u0432\\u0430 \\u043e\\u0441\\u0442\\u044b\\u0432\\u0430\\u0435\\u0442 \\u043d\\u0435 \\u043c\\u0433\\u043d\\u043e\\u0432\\u0435\\u043d\\u043d\\u043e. \\u0414\\u043b\\u044f \\u043d\\u0430\\u0433\\u0440\\u0435\\u0432\\u0430  \\u0443\\u0442\\u044e\\u0433 \\u043d\\u0443\\u0436\\u043d\\u043e \\u043f\\u043e\\u0441\\u0442\\u0430\\u0432\\u0438\\u0442\\u044c \\u043d\\u0430 \\u0431\\u0430\\u0437\\u0443. \\u0421 \\u043e\\u0434\\u043d\\u043e\\u0439 \\u0441\\u0442\\u043e\\u0440\\u043e\\u043d\\u044b, \\u0444\\u0443\\u043d\\u043a\\u0446\\u0438\\u044f \\u0443\\u0434\\u043e\\u0431\\u043d\\u0430\\u044f, \\u0442\\u0430\\u043a \\u043a\\u0430\\u043a \\u0438\\u0437\\u0431\\u0430\\u0432\\u043b\\u044f\\u0435\\u0442 \\u043e\\u0442 \\u0437\\u0430\\u043f\\u0443\\u0442\\u044b\\u0432\\u0430\\u044e\\u0449\\u0435\\u0433\\u043e\\u0441\\u044f \\u0448\\u043d\\u0443\\u0440\\u0430. \\u0421 \\u0434\\u0440\\u0443\\u0433\\u043e\\u0439 \\u0441\\u0442\\u043e\\u0440\\u043e\\u043d\\u044b, \\u043f\\u0440\\u043e\\u0441\\u0442\\u043e \\u0442\\u0430\\u043a \\u0443\\u0442\\u044e\\u0433 \\u043d\\u0435 \\u043f\\u043e\\u0441\\u0442\\u0430\\u0432\\u0438\\u0448\\u044c \\u2014 \\u043e\\u0441\\u0442\\u044b\\u043d\\u0435\\u0442.\\u041f\\u0430\\u0440\\u043e\\u0432\\u043e\\u0439 \\u0443\\u0442\\u044e\\u0433 \\u0440\\u0430\\u0431\\u043e\\u0442\\u0430\\u0435\\u0442 \\u0441 \\u0432\\u043e\\u0434\\u043e\\u0439, \\u0438, \\u0435\\u0441\\u043b\\u0438 \\u043e\\u043d\\u0430 \\u0436\\u0451\\u0441\\u0442\\u043a\\u0430\\u044f, \\u0432 \\u0443\\u0441\\u0442\\u0440\\u043e\\u0439\\u0441\\u0442\\u0432\\u0435 \\u0431\\u044b\\u0441\\u0442\\u0440\\u043e \\u043d\\u0430\\u0447\\u043d\\u0451\\u0442 \\u0441\\u043a\\u0430\\u043f\\u043b\\u0438\\u0432\\u0430\\u0442\\u044c\\u0441\\u044f \\u043d\\u0430\\u043a\\u0438\\u043f\\u044c. \\u0424\\u0443\\u043d\\u043a\\u0446\\u0438\\u044f \\u0437\\u0430\\u0449\\u0438\\u0442\\u044b \\u043e\\u0442 \\u043d\\u0430\\u043a\\u0438\\u043f\\u0438 \\u043f\\u043e\\u043c\\u043e\\u0436\\u0435\\u0442 \\u043f\\u0440\\u043e\\u0434\\u043b\\u0438\\u0442\\u044c \\u0436\\u0438\\u0437\\u043d\\u044c \\u0432\\u0430\\u0448\\u0435\\u043c\\u0443 \\u0443\\u0442\\u044e\\u0433\\u0443.\\u0421\\u0430\\u043c\\u043e\\u043e\\u0447\\u0438\\u0441\\u0442\\u043a\\u0430 \\u0438\\u0437\\u0431\\u0430\\u0432\\u043b\\u044f\\u0435\\u0442 \\u043e\\u0442 \\u043d\\u0435\\u043e\\u0431\\u0445\\u043e\\u0434\\u0438\\u043c\\u043e\\u0441\\u0442\\u0438 \\u0437\\u0430\\u043b\\u0438\\u0432\\u0430\\u0442\\u044c \\u0442\\u043e\\u043b\\u044c\\u043a\\u043e \\u043e\\u0447\\u0438\\u0449\\u0435\\u043d\\u043d\\u0443\\u044e \\u0432\\u043e\\u0434\\u0443 \\u0438\\u043b\\u0438 \\u0438\\u0441\\u043f\\u043e\\u043b\\u044c\\u0437\\u043e\\u0432\\u0430\\u0442\\u044c \\u0441\\u044a\\u0451\\u043c\\u043d\\u044b\\u0435 \\u0444\\u0438\\u043b\\u044c\\u0442\\u0440\\u044b \\u043f\\u0440\\u043e\\u0442\\u0438\\u0432 \\u043d\\u0430\\u043a\\u0438\\u043f\\u0438. \\u041e\\u0431\\u044b\\u0447\\u043d\\u043e, \\u0447\\u0442\\u043e\\u0431\\u044b \\u043f\\u043e\\u0447\\u0438\\u0441\\u0442\\u0438\\u0442\\u044c \\u0443\\u0442\\u044e\\u0433, \\u043d\\u0430\\u0434\\u043e \\u043d\\u0430\\u0436\\u0430\\u0442\\u044c \\u0441\\u043f\\u0435\\u0446\\u0438\\u0430\\u043b\\u044c\\u043d\\u0443\\u044e \\u043a\\u043d\\u043e\\u043f\\u043a\\u0443.\\u0412 \\u043d\\u0435\\u043a\\u043e\\u0442\\u043e\\u0440\\u044b\\u0445 \\u0440\\u0435\\u0436\\u0438\\u043c\\u0430\\u0445 \\u0433\\u043b\\u0430\\u0436\\u043a\\u0438 \\u043f\\u0430\\u0440\\u043e\\u043e\\u0431\\u0440\\u0430\\u0437\\u043e\\u0432\\u0430\\u043d\\u0438\\u0435 \\u043d\\u0435\\u0432\\u043e\\u0437\\u043c\\u043e\\u0436\\u043d\\u043e. \\u041f\\u0440\\u0438 \\u044d\\u0442\\u043e\\u043c \\u0438\\u0437 \\u043e\\u0442\\u0432\\u0435\\u0440\\u0441\\u0442\\u0438\\u0439 \\u043d\\u0430 \\u043f\\u043e\\u0434\\u043e\\u0448\\u0432\\u0435 \\u043c\\u043e\\u0436\\u0435\\u0442 \\u0432\\u044b\\u0442\\u0435\\u043a\\u0430\\u0442\\u044c \\u0432\\u043e\\u0434\\u0430, \\u0430 \\u043d\\u0430 \\u0442\\u043a\\u0430\\u043d\\u0438 \\u2014 \\u043e\\u0431\\u0440\\u0430\\u0437\\u043e\\u0432\\u044b\\u0432\\u0430\\u0442\\u044c\\u0441\\u044f \\u0440\\u0430\\u0437\\u0432\\u043e\\u0434\\u044b. \\u0427\\u0442\\u043e\\u0431\\u044b \\u044d\\u0442\\u043e\\u0433\\u043e \\u0438\\u0437\\u0431\\u0435\\u0436\\u0430\\u0442\\u044c, \\u043f\\u0440\\u043e\\u0438\\u0437\\u0432\\u043e\\u0434\\u0438\\u0442\\u0435\\u043b\\u0438 \\u043e\\u0441\\u043d\\u0430\\u0449\\u0430\\u044e\\u0442 \\u0443\\u0442\\u044e\\u0433\\u0438 \\u043f\\u0440\\u043e\\u0442\\u0438\\u0432\\u043e\\u043a\\u0430\\u043f\\u0435\\u043b\\u044c\\u043d\\u043e\\u0439 \\u0441\\u0438\\u0441\\u0442\\u0435\\u043c\\u043e\\u0439.\\u041c\\u0430\\u0442\\u0435\\u0440\\u0438\\u0430\\u043b \\u0438 \\u0444\\u043e\\u0440\\u043c\\u0430 \\u043f\\u043e\\u0434\\u043e\\u0448\\u0432\\u044b, \\u043c\\u043e\\u0449\\u043d\\u043e\\u0441\\u0442\\u044c \\u0438 \\u043d\\u0430\\u0431\\u043e\\u0440 \\u0444\\u0443\\u043d\\u043a\\u0446\\u0438\\u0439 \\u2014 \\u0433\\u043b\\u0430\\u0432\\u043d\\u044b\\u0435 \\u043a\\u0440\\u0438\\u0442\\u0435\\u0440\\u0438\\u0438 \\u043f\\u0440\\u0438 \\u0432\\u044b\\u0431\\u043e\\u0440\\u0435 \\u0443\\u0442\\u044e\\u0433\\u0430. \\u041d\\u043e \\u0435\\u0441\\u0442\\u044c \\u0438 \\u0434\\u0440\\u0443\\u0433\\u0438\\u0435 \\u0434\\u0435\\u0442\\u0430\\u043b\\u0438, \\u043d\\u0430 \\u043a\\u043e\\u0442\\u043e\\u0440\\u044b\\u0435 \\u0441\\u0442\\u043e\\u0438\\u0442 \\u043e\\u0431\\u0440\\u0430\\u0442\\u0438\\u0442\\u044c \\u0432\\u043d\\u0438\\u043c\\u0430\\u043d\\u0438\\u0435.\\u042d\\u0442\\u043e \\u043f\\u043e\\u043a\\u0430\\u0437\\u0430\\u0442\\u0435\\u043b\\u044c \\u0445\\u0430\\u0440\\u0430\\u043a\\u0442\\u0435\\u0440\\u0438\\u0437\\u0443\\u0435\\u0442 \\u044d\\u0444\\u0444\\u0435\\u043a\\u0442\\u0438\\u0432\\u043d\\u043e\\u0441\\u0442\\u044c \\u043f\\u0430\\u0440\\u043e\\u0432\\u043e\\u0433\\u043e \\u0443\\u0434\\u0430\\u0440\\u0430. \\u0427\\u0435\\u043c \\u043e\\u043d \\u0431\\u043e\\u043b\\u044c\\u0448\\u0435, \\u0442\\u0435\\u043c \\u043b\\u0435\\u0433\\u0447\\u0435 \\u0440\\u0430\\u0437\\u0433\\u043b\\u0430\\u0434\\u0438\\u0442\\u044c \\u0441\\u043b\\u043e\\u0436\\u043d\\u044b\\u0435 \\u0441\\u043a\\u043b\\u0430\\u0434\\u043a\\u0438. \\u0421\\u043a\\u043e\\u0440\\u043e\\u0441\\u0442\\u044c \\u043f\\u043e\\u0434\\u0430\\u0447\\u0438 \\u043f\\u0430\\u0440\\u0430 \\u043c\\u043e\\u0436\\u0435\\u0442 \\u0441\\u043e\\u0441\\u0442\\u0430\\u0432\\u043b\\u044f\\u0442\\u044c \\u043e\\u0442 10 \\u0434\\u043e 150 \\u0433/\\u043c\\u0438\\u043d \\u0438 \\u0437\\u0430\\u0432\\u0438\\u0441\\u0438\\u0442 \\u043e\\u0442 \\u043c\\u043e\\u0449\\u043d\\u043e\\u0441\\u0442\\u0438 \\u0443\\u0442\\u044e\\u0433\\u0430. \\u0427\\u0435\\u043c \\u0431\\u043e\\u043b\\u044c\\u0448\\u0435 \\u043f\\u043e\\u043a\\u0430\\u0437\\u0430\\u0442\\u0435\\u043b\\u044c \\u2014\\u00a0\\u0442\\u0435\\u043c \\u0431\\u044b\\u0441\\u0442\\u0440\\u0435\\u0435 \\u0440\\u0430\\u0437\\u0433\\u043b\\u0430\\u0436\\u0438\\u0432\\u0430\\u044e\\u0442\\u0441\\u044f \\u043f\\u043b\\u043e\\u0442\\u043d\\u044b\\u0435 \\u0442\\u043a\\u0430\\u043d\\u0438.\\u0411\\u043e\\u043b\\u044c\\u0448\\u0438\\u0439 \\u0440\\u0430\\u0441\\u0445\\u043e\\u0434 \\u043f\\u0440\\u0438 \\u043f\\u043e\\u0441\\u0442\\u043e\\u044f\\u043d\\u043d\\u043e\\u0439 \\u043f\\u043e\\u0434\\u0430\\u0447\\u0435 \\u043d\\u0435 \\u0441\\u043b\\u0438\\u0448\\u043a\\u043e\\u043c \\u0443\\u0434\\u043e\\u0431\\u0435\\u043d, \\u043f\\u043e\\u0441\\u043a\\u043e\\u043b\\u044c\\u043a\\u0443 \\u0431\\u044b\\u0441\\u0442\\u0440\\u043e \\u0437\\u0430\\u043a\\u0430\\u043d\\u0447\\u0438\\u0432\\u0430\\u0435\\u0442\\u0441\\u044f \\u0432\\u043e\\u0434\\u0430 \\u0432 \\u0451\\u043c\\u043a\\u043e\\u0441\\u0442\\u0438.\\u0427\\u0435\\u043c \\u043b\\u0435\\u0433\\u0447\\u0435 \\u0443\\u0442\\u044e\\u0433, \\u0442\\u0435\\u043c \\u043f\\u0440\\u043e\\u0449\\u0435 \\u0441 \\u043d\\u0438\\u043c \\u0440\\u0430\\u0431\\u043e\\u0442\\u0430\\u0442\\u044c, \\u043d\\u043e \\u043f\\u0440\\u0438 \\u044d\\u0442\\u043e\\u043c \\u0442\\u044f\\u0436\\u0451\\u043b\\u044b\\u0435 \\u0443\\u0441\\u0442\\u0440\\u043e\\u0439\\u0441\\u0442\\u0432\\u0430 \\u043b\\u0443\\u0447\\u0448\\u0435 \\u0441\\u043f\\u0440\\u0430\\u0432\\u043b\\u044f\\u044e\\u0442\\u0441\\u044f \\u0441\\u043e \\u0441\\u043a\\u043b\\u0430\\u0434\\u043a\\u0430\\u043c\\u0438 \\u0437\\u0430 \\u0441\\u0447\\u0451\\u0442 \\u0441\\u043e\\u0431\\u0441\\u0442\\u0432\\u0435\\u043d\\u043d\\u043e\\u0433\\u043e \\u0432\\u0435\\u0441\\u0430. \\u041e\\u043f\\u0442\\u0438\\u043c\\u0430\\u043b\\u044c\\u043d\\u044b\\u043c \\u0441\\u0447\\u0438\\u0442\\u0430\\u0435\\u0442\\u0441\\u044f \\u0432\\u0435\\u0441 \\u043e\\u043a\\u043e\\u043b\\u043e 1,5 \\u043a\\u0433, \\u043d\\u043e \\u043d\\u0438\\u0447\\u0442\\u043e \\u043d\\u0435 \\u043c\\u0435\\u0448\\u0430\\u0435\\u0442 \\u0432\\u0430\\u043c \\u043d\\u0430\\u0439\\u0442\\u0438 \\u0441\\u0432\\u043e\\u0439 \\u0431\\u0430\\u043b\\u0430\\u043d\\u0441 \\u043c\\u0435\\u0436\\u0434\\u0443 \\u043a\\u043e\\u043c\\u0444\\u043e\\u0440\\u0442\\u043e\\u043c \\u0438 \\u044d\\u0444\\u0444\\u0435\\u043a\\u0442\\u0438\\u0432\\u043d\\u043e\\u0441\\u0442\\u044c\\u044e.\\u041e\\u043f\\u0442\\u0438\\u043c\\u0430\\u043b\\u044c\\u043d\\u0430\\u044f \\u0434\\u043b\\u0438\\u043d\\u0430 \\u0448\\u043d\\u0443\\u0440\\u0430 \\u0441\\u043e\\u0441\\u0442\\u0430\\u0432\\u043b\\u044f\\u0435\\u0442 2\\u20132,5 \\u043c\\u0435\\u0442\\u0440\\u0430. \\u0415\\u0441\\u043b\\u0438 \\u043f\\u0440\\u043e\\u0432\\u043e\\u0434 \\u0441\\u043b\\u0438\\u0448\\u043a\\u043e\\u043c \\u043a\\u043e\\u0440\\u043e\\u0442\\u043a\\u0438\\u0439, \\u0432\\u0430\\u043c \\u043f\\u0440\\u0438\\u0434\\u0451\\u0442\\u0441\\u044f \\u043f\\u043e\\u0441\\u0442\\u043e\\u044f\\u043d\\u043d\\u043e \\u0438\\u0441\\u043a\\u0430\\u0442\\u044c \\u0443\\u0434\\u043b\\u0438\\u043d\\u0438\\u0442\\u0435\\u043b\\u0438 \\u0438\\u043b\\u0438 \\u0434\\u0432\\u0438\\u0433\\u0430\\u0442\\u044c \\u0433\\u043b\\u0430\\u0434\\u0438\\u043b\\u044c\\u043d\\u0443\\u044e \\u0434\\u043e\\u0441\\u043a\\u0443 \\u0431\\u043b\\u0438\\u0436\\u0435 \\u043a \\u0440\\u043e\\u0437\\u0435\\u0442\\u043a\\u0435.\\u041f\\u043e\\u0434\\u0443\\u043c\\u0430\\u0439\\u0442\\u0435, \\u043a\\u0430\\u043a \\u0438 \\u0433\\u0434\\u0435 \\u0432\\u044b \\u0431\\u0443\\u0434\\u0435\\u0442\\u0435 \\u0438\\u0441\\u043f\\u043e\\u043b\\u044c\\u0437\\u043e\\u0432\\u0430\\u0442\\u044c \\u0443\\u0442\\u044e\\u0433, \\u043a\\u0430\\u043a\\u0438\\u0435 \\u0442\\u043a\\u0430\\u043d\\u0438 \\u0447\\u0430\\u0449\\u0435 \\u043f\\u0440\\u0435\\u0434\\u0441\\u0442\\u043e\\u0438\\u0442 \\u0438\\u043c \\u0433\\u043b\\u0430\\u0434\\u0438\\u0442\\u044c. \\u0412\\u044b\\u0431\\u0438\\u0440\\u0430\\u0439\\u0442\\u0435 \\u043b\\u0451\\u0433\\u043a\\u0438\\u0439, \\u043a\\u043e\\u043c\\u043f\\u0430\\u043a\\u0442\\u043d\\u044b\\u0439 \\u0438 \\u043f\\u0440\\u043e\\u0441\\u0442\\u043e\\u0439 \\u0432\\u0430\\u0440\\u0438\\u0430\\u043d\\u0442. \\u0422\\u0430\\u043a\\u043e\\u0439 \\u0432\\u044b\\u0440\\u0443\\u0447\\u0438\\u0442 \\u0432 \\u043a\\u043e\\u043c\\u0430\\u043d\\u0434\\u0438\\u0440\\u043e\\u0432\\u043a\\u0435 \\u0438\\u043b\\u0438 \\u043d\\u0430 \\u043e\\u0442\\u0434\\u044b\\u0445\\u0435 \\u0438 \\u043d\\u0435 \\u0437\\u0430\\u0439\\u043c\\u0451\\u0442 \\u043c\\u043d\\u043e\\u0433\\u043e \\u043c\\u0435\\u0441\\u0442\\u0430 \\u0432 \\u0431\\u0430\\u0433\\u0430\\u0436\\u0435.\\u0415\\u0441\\u043b\\u0438 \\u0432\\u044b \\u043d\\u0435 \\u0442\\u0440\\u0430\\u0442\\u0438\\u0442\\u0435 \\u043c\\u043d\\u043e\\u0433\\u043e \\u0432\\u0440\\u0435\\u043c\\u0435\\u043d\\u0438 \\u043d\\u0430 \\u0433\\u043b\\u0430\\u0436\\u043a\\u0443 \\u0438 \\u0432\\u0430\\u043c \\u043d\\u0435 \\u043d\\u0443\\u0436\\u043d\\u044b \\u043d\\u0430\\u0432\\u043e\\u0440\\u043e\\u0442\\u044b, \\u0432\\u044b\\u0431\\u0438\\u0440\\u0430\\u0439\\u0442\\u0435 \\u043f\\u0440\\u043e\\u0441\\u0442\\u0443\\u044e \\u043c\\u043e\\u0434\\u0435\\u043b\\u044c \\u0441 \\u0431\\u0430\\u0437\\u043e\\u0432\\u044b\\u043c\\u0438 \\u0444\\u0443\\u043d\\u043a\\u0446\\u0438\\u044f\\u043c\\u0438 \\u0438 \\u043f\\u043e\\u0434\\u0430\\u0447\\u0435\\u0439 \\u043f\\u0430\\u0440\\u0430. \\u042d\\u0442\\u043e \\u043e\\u043f\\u0442\\u0438\\u043c\\u0430\\u043b\\u044c\\u043d\\u044b\\u0439 \\u0432\\u0430\\u0440\\u0438\\u0430\\u043d\\u0442 \\u0434\\u043b\\u044f \\u0442\\u0435\\u0445, \\u043a\\u0442\\u043e \\u0433\\u043b\\u0430\\u0434\\u0438\\u0442 \\u043d\\u0435\\u0447\\u0430\\u0441\\u0442\\u043e \\u0438 \\u043d\\u0435\\u043c\\u043d\\u043e\\u0433\\u043e.\\u0415\\u0441\\u043b\\u0438 \\u0433\\u043b\\u0430\\u0434\\u0438\\u0442\\u0435 \\u0440\\u0435\\u0433\\u0443\\u043b\\u044f\\u0440\\u043d\\u043e, \\u0432\\u044b\\u0431\\u0438\\u0440\\u0430\\u0439\\u0442\\u0435 \\u043d\\u0430\\u0434\\u0451\\u0436\\u043d\\u044b\\u0435 \\u043c\\u043e\\u0434\\u0435\\u043b\\u0438 \\u0441 \\u043f\\u043e\\u0441\\u0442\\u043e\\u044f\\u043d\\u043d\\u043e\\u0439 \\u043f\\u043e\\u0434\\u0430\\u0447\\u0435\\u0439 \\u043f\\u0430\\u0440\\u0430, \\u0432\\u0435\\u0440\\u0442\\u0438\\u043a\\u0430\\u043b\\u044c\\u043d\\u044b\\u043c \\u043e\\u0442\\u043f\\u0430\\u0440\\u0438\\u0432\\u0430\\u043d\\u0438\\u0435\\u043c \\u0438 \\u0443\\u0434\\u043e\\u0431\\u043d\\u043e\\u0439 \\u043f\\u043e\\u0434\\u043e\\u0448\\u0432\\u043e\\u0439. \\u041e\\u043d\\u0438 \\u043f\\u043e\\u0434\\u043e\\u0439\\u0434\\u0443\\u0442 \\u0434\\u043b\\u044f \\u0431\\u043e\\u043b\\u044c\\u0448\\u0438\\u043d\\u0441\\u0442\\u0432\\u0430 \\u0442\\u043a\\u0430\\u043d\\u0435\\u0439 \\u0438 \\u043f\\u0440\\u043e\\u0441\\u043b\\u0443\\u0436\\u0430\\u0442 \\u0434\\u043e\\u043b\\u0433\\u043e. \\u0415\\u0441\\u043b\\u0438 \\u0432\\u044b \\u0447\\u0430\\u0441\\u0442\\u043e \\u0433\\u043b\\u0430\\u0434\\u0438\\u0442\\u0435 \\u043f\\u043b\\u043e\\u0442\\u043d\\u044b\\u0435 \\u0442\\u043a\\u0430\\u043d\\u0438, \\u043d\\u0430\\u043f\\u0440\\u0438\\u043c\\u0435\\u0440 \\u0441\\u043a\\u0430\\u0442\\u0435\\u0440\\u0442\\u0438, \\u043f\\u043e\\u0441\\u0442\\u0435\\u043b\\u044c\\u043d\\u043e\\u0435 \\u0431\\u0435\\u043b\\u044c\\u0451, \\u0434\\u0436\\u0438\\u043d\\u0441\\u044b, \\u0432\\u044b\\u0431\\u0438\\u0440\\u0430\\u0439\\u0442\\u0435 \\u043c\\u043e\\u0449\\u043d\\u044b\\u0439 \\u0443\\u0442\\u044e\\u0433 \\u0441 \\u0445\\u043e\\u0440\\u043e\\u0448\\u0438\\u043c \\u043f\\u0430\\u0440\\u043e\\u0432\\u044b\\u043c \\u0443\\u0434\\u0430\\u0440\\u043e\\u043c \\u0438 \\u0444\\u0443\\u043d\\u043a\\u0446\\u0438\\u0435\\u0439 \\u043f\\u043e\\u0441\\u0442\\u043e\\u044f\\u043d\\u043d\\u043e\\u0439 \\u043f\\u043e\\u0434\\u0430\\u0447\\u0438 \\u043f\\u0430\\u0440\\u0430.\\u0410 \\u0435\\u0441\\u043b\\u0438 \\u0432\\u0430\\u043c \\u043d\\u0443\\u0436\\u043d\\u0430 \\u0434\\u0435\\u0439\\u0441\\u0442\\u0432\\u0438\\u0442\\u0435\\u043b\\u044c\\u043d\\u043e \\u0432\\u044b\\u0441\\u043e\\u043a\\u0430\\u044f \\u044d\\u0444\\u0444\\u0435\\u043a\\u0442\\u0438\\u0432\\u043d\\u043e\\u0441\\u0442\\u044c \\u0438 \\u043f\\u043e\\u0437\\u0432\\u043e\\u043b\\u044f\\u0435\\u0442 \\u0431\\u044e\\u0434\\u0436\\u0435\\u0442, \\u043e\\u0431\\u0440\\u0430\\u0442\\u0438\\u0442\\u0435 \\u0432\\u043d\\u0438\\u043c\\u0430\\u043d\\u0438\\u0435 \\u043d\\u0430 \\u043f\\u0430\\u0440\\u043e\\u0433\\u0435\\u043d\\u0435\\u0440\\u0430\\u0442\\u043e\\u0440\\u044b.\\u042d\\u0442\\u043e\\u0442 \\u043c\\u0430\\u0442\\u0435\\u0440\\u0438\\u0430\\u043b \\u0432\\u043f\\u0435\\u0440\\u0432\\u044b\\u0435 \\u0431\\u044b\\u043b \\u043e\\u043f\\u0443\\u0431\\u043b\\u0438\\u043a\\u043e\\u0432\\u0430\\u043d \\u0432 \\u0438\\u044e\\u043d\\u0435 2017 \\u0433\\u043e\\u0434\\u0430. \\u0412 \\u043e\\u043a\\u0442\\u044f\\u0431\\u0440\\u0435 2024\\u2011\\u0433\\u043e \\u043c\\u044b \\u043e\\u0431\\u043d\\u043e\\u0432\\u0438\\u043b\\u0438 \\u0442\\u0435\\u043a\\u0441\\u0442.\",\n          \"\\u0418\\u043b\\u043e\\u043d \\u041c\\u0430\\u0441\\u043a \\u043f\\u0440\\u0435\\u0434\\u0441\\u0442\\u0430\\u0432\\u0438\\u043b \\u0441\\u0440\\u0430\\u0437\\u0443 \\u0434\\u0432\\u0430 \\u043d\\u0435\\u043e\\u0431\\u044b\\u0447\\u043d\\u044b\\u0445 \\u0430\\u0432\\u0442\\u043e\\u043c\\u043e\\u0431\\u0438\\u043b\\u044f \\u2014 \\u0440\\u043e\\u0431\\u043e\\u0442\\u0438\\u0437\\u0438\\u0440\\u043e\\u0432\\u0430\\u043d\\u043d\\u043e\\u0435 \\u0442\\u0430\\u043a\\u0441\\u0438 Cybercab \\u0438 \\u0444\\u0443\\u0442\\u0443\\u0440\\u0438\\u0441\\u0442\\u0438\\u0447\\u043d\\u044b\\u0439 \\u043c\\u0438\\u043a\\u0440\\u043e\\u0430\\u0432\\u0442\\u043e\\u0431\\u0443\\u0441 Robovan. \\u041e\\u0431\\u0430 \\u0441\\u0442\\u0430\\u043b\\u0438 \\u043f\\u0435\\u0440\\u0432\\u044b\\u043c\\u0438 \\u043f\\u043e\\u043b\\u043d\\u043e\\u0441\\u0442\\u044c\\u044e \\u0431\\u0435\\u0441\\u043f\\u0438\\u043b\\u043e\\u0442\\u043d\\u044b\\u043c\\u0438 \\u043c\\u0430\\u0448\\u0438\\u043d\\u0430\\u043c\\u0438 Tesla.\\u041d\\u0438 \\u0440\\u043e\\u0431\\u043e\\u0442\\u0430\\u043a\\u0441\\u0438, \\u043d\\u043e \\u043c\\u0438\\u043a\\u0440\\u043e\\u0430\\u0432\\u0442\\u043e\\u0431\\u0443\\u0441 \\u043d\\u0435 \\u0438\\u043c\\u0435\\u044e\\u0442 \\u043d\\u0438 \\u0440\\u0443\\u043b\\u044f, \\u043d\\u0438 \\u043f\\u0435\\u0434\\u0430\\u043b\\u0435\\u0439 \\u0433\\u0430\\u0437\\u0430 \\u0438 \\u0442\\u043e\\u0440\\u043c\\u043e\\u0437\\u0430, \\u0442\\u0430\\u043a\\u0436\\u0435 \\u043e\\u043d\\u0438 \\u043f\\u043e\\u0434\\u0434\\u0435\\u0440\\u0436\\u0438\\u0432\\u0430\\u044e\\u0442 \\u0438\\u043d\\u0434\\u0443\\u043a\\u0446\\u0438\\u043e\\u043d\\u043d\\u0443\\u044e \\u0437\\u0430\\u0440\\u044f\\u0434\\u043a\\u0443. \\u0412 \\u0441\\u0430\\u043b\\u043e\\u043d\\u0435 Cybercab \\u043f\\u043e\\u043c\\u0435\\u0449\\u0430\\u0435\\u0442\\u0441\\u044f \\u043d\\u0435 \\u0431\\u043e\\u043b\\u0435\\u0435 \\u0434\\u0432\\u0443\\u0445 \\u0447\\u0435\\u043b\\u043e\\u0432\\u0435\\u043a. \\u0410\\u0432\\u0442\\u043e\\u043c\\u043e\\u0431\\u0438\\u043b\\u044c \\u043c\\u043e\\u0436\\u0435\\u0442 \\u043f\\u043e\\u0445\\u0432\\u0430\\u0441\\u0442\\u0430\\u0442\\u044c\\u0441\\u044f \\u0444\\u0443\\u0442\\u0443\\u0440\\u0438\\u0441\\u0442\\u0438\\u0447\\u043d\\u044b\\u043c \\u0434\\u0438\\u0437\\u0430\\u0439\\u043d\\u043e\\u043c \\u0441 \\u0434\\u0432\\u0435\\u0440\\u044c\\u043c\\u0438, \\u043e\\u0442\\u043a\\u0440\\u044b\\u0432\\u0430\\u044e\\u0449\\u0438\\u043c\\u0438\\u0441\\u044f \\u0432\\u0432\\u0435\\u0440\\u0445.\\u00a0\\u041c\\u0430\\u0440\\u0448\\u0440\\u0443\\u0442\\u043a\\u0430 \\u0432 \\u043a\\u0438\\u0431\\u0435\\u0440\\u043f\\u0430\\u043d\\u043a-\\u0441\\u0442\\u0438\\u043b\\u0435 \\u0432\\u043c\\u0435\\u0449\\u0430\\u0435\\u0442 \\u0432 \\u0441\\u0435\\u0431\\u044f \\u0434\\u043e 20 \\u0447\\u0435\\u043b\\u043e\\u0432\\u0435\\u043a. \\u0422\\u0430\\u043a\\u0436\\u0435 \\u043d\\u0430 \\u043d\\u0435\\u0439 \\u043c\\u043e\\u0436\\u043d\\u043e \\u043f\\u0435\\u0440\\u0435\\u0432\\u043e\\u0437\\u0438\\u0442\\u044c \\u0440\\u0430\\u0437\\u043b\\u0438\\u0447\\u043d\\u044b\\u0435 \\u0433\\u0440\\u0443\\u0437\\u044b. \\u041c\\u0438\\u043a\\u0440\\u043e\\u0430\\u0432\\u0442\\u043e\\u0431\\u0443\\u0441 \\u043f\\u0440\\u0435\\u0434\\u043d\\u0430\\u0437\\u043d\\u0430\\u0447\\u0435\\u043d \\u0434\\u043b\\u044f Tesla Network \\u2014 \\u0441\\u043f\\u0435\\u0446\\u0438\\u0430\\u043b\\u044c\\u043d\\u043e\\u0433\\u043e \\u0441\\u0435\\u0440\\u0432\\u0438\\u0441\\u0430 \\u043f\\u043e \\u0437\\u0430\\u043a\\u0430\\u0437\\u0443 \\u043f\\u043e\\u0435\\u0437\\u0434\\u043e\\u043a \\u043d\\u0430 \\u0431\\u0435\\u0441\\u043f\\u0438\\u043b\\u043e\\u0442\\u043d\\u044b\\u0445 \\u0430\\u0432\\u0442\\u043e\\u043c\\u043e\\u0431\\u0438\\u043b\\u044f\\u0445.\\u041f\\u043e\\u0441\\u043a\\u043e\\u043b\\u044c\\u043a\\u0443 \\u043e\\u0431\\u0435 \\u043d\\u043e\\u0432\\u0438\\u043d\\u043a\\u0438 \\u043b\\u0438\\u0448\\u0435\\u043d\\u044b \\u043e\\u0440\\u0433\\u0430\\u043d\\u043e\\u0432 \\u0443\\u043f\\u0440\\u0430\\u0432\\u043b\\u0435\\u043d\\u0438\\u044f, Tesla \\u0441\\u043f\\u0435\\u0440\\u0432\\u0430 \\u043f\\u0440\\u0438\\u0434\\u0451\\u0442\\u0441\\u044f \\u0434\\u043e\\u0436\\u0434\\u0430\\u0442\\u044c\\u0441\\u044f \\u043e\\u0434\\u043e\\u0431\\u0440\\u0435\\u043d\\u0438\\u044f \\u0438\\u0445 \\u043f\\u043e\\u044f\\u0432\\u043b\\u0435\\u043d\\u0438\\u044f \\u043d\\u0430 \\u043e\\u0431\\u0449\\u0435\\u0441\\u0442\\u0432\\u0435\\u043d\\u043d\\u044b\\u0445 \\u0434\\u043e\\u0440\\u043e\\u0433\\u0430\\u0445. \\u041f\\u0435\\u0440\\u0432\\u044b\\u043c\\u0438 \\u0448\\u0442\\u0430\\u0442\\u0430\\u043c\\u0438, \\u0433\\u0434\\u0435 \\u043d\\u0430\\u0447\\u043d\\u0443\\u0442 \\u0435\\u0437\\u0434\\u0438\\u0442\\u044c \\u0430\\u0432\\u0442\\u043e\\u043c\\u043e\\u0431\\u0438\\u043b\\u0438 \\u043a\\u043e\\u043c\\u043f\\u0430\\u043d\\u0438\\u0438, \\u0441\\u0442\\u0430\\u043d\\u0443\\u0442 \\u0422\\u0435\\u0445\\u0430\\u0441 \\u0438 \\u041a\\u0430\\u043b\\u0438\\u0444\\u043e\\u0440\\u043d\\u0438\\u044f \\u2014 \\u043f\\u0440\\u043e\\u0438\\u0437\\u043e\\u0439\\u0434\\u0451\\u0442 \\u044d\\u0442\\u043e \\u0432 2025 \\u0433\\u043e\\u0434\\u0443.\"\n        ],\n        \"semantic_type\": \"\",\n        \"description\": \"\"\n      }\n    }\n  ]\n}"
            }
          },
          "metadata": {},
          "execution_count": 5
        }
      ]
    },
    {
      "cell_type": "code",
      "source": [
        "data['text'][2]"
      ],
      "metadata": {
        "colab": {
          "base_uri": "https://localhost:8080/",
          "height": 174
        },
        "id": "jPueRvuw3kCQ",
        "outputId": "a54c59c7-d4e7-4d43-ff34-08ebae438e3c"
      },
      "execution_count": 6,
      "outputs": [
        {
          "output_type": "execute_result",
          "data": {
            "text/plain": [
              "'«Яндекс» представил новую версию технологии перевода текста на изображениях. Она работает на базе нейросетей и позволяет переводить картинки с учётом контекста. Например, в поездке можно быстро перевести меню в ресторане, а на работе — разобраться в технической документации.Также «Яндекс» улучшил визуализацию перевода — текст стал легче читаться и больше похож на оригинальную вёрстку. Нейросети понимают стиль оригинального контента и умеют сохранять игру слов. Также они подбирают более точные формулировки во фразах с несколькими значениями. Выросло качества перевода не только простых текстов, но сложных публицистических статей и инструкций.\\xa0Также разработчики улучшили визуализацию для нескольких десятков языков. Технология стирает с картинки оригинальный текст и показывает вместо него перевод. Алгоритмы подбирают наиболее подходящие шрифт, размер и цвет букв, а также убирают различные артефакты. Во многих случаях текст получается более контрастным, поэтому читать его даже легче, чем оригинал.Для перевода текста на изображениях «Яндекс» создал отдельную модель YandexGPT. Её обучили на множестве пар оригинальных и переведённых текстов. Модели показывали примеры качественных и плохих переводов, чтобы она училась подражать эталонным, избегала ошибок и не добавляла несуществующие детали.Обновление уже доступно в «Яндекс Переводчике»\\xa0и «Яндекс Браузере», а позже появится и в «Умной камере» в приложении «Яндекс».'"
            ],
            "application/vnd.google.colaboratory.intrinsic+json": {
              "type": "string"
            }
          },
          "metadata": {},
          "execution_count": 6
        }
      ]
    }
  ]
}