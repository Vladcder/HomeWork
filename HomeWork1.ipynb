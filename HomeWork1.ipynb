{
  "nbformat": 4,
  "nbformat_minor": 0,
  "metadata": {
    "colab": {
      "provenance": []
    },
    "kernelspec": {
      "name": "python3",
      "display_name": "Python 3"
    },
    "language_info": {
      "name": "python"
    }
  },
  "cells": [
    {
      "cell_type": "code",
      "execution_count": null,
      "metadata": {
        "id": "UX_notsW3cH7"
      },
      "outputs": [],
      "source": [
        "class Chocolate:\n",
        "  def __init__(self,price,dopant=None):\n",
        "    if (price<0):\n",
        "      raise ValueError('Цена не может быть меньше 0!')\n",
        "    else:\n",
        "        self.price=price\n",
        "        self.dopant=dopant\n",
        "  def show_my_chocolate(self):\n",
        "    if (self.dopant is not None):\n",
        "      print(f'Шоколадный баточник, добавка: {self.dopant}')\n",
        "    else:\n",
        "      print('Обычный шоколадный батончик')\n",
        "  def __str__(self):\n",
        "    return f'Шоколадный батончик, {self.price} рублей'"
      ]
    },
    {
      "cell_type": "code",
      "source": [
        "choco1=Chocolate(34)\n",
        "choco1.show_my_chocolate()\n",
        "choco2=Chocolate(48,'Орехи')\n",
        "choco2.show_my_chocolate()\n",
        "choco3=Chocolate(50,'Молоко и орехи')\n",
        "print(choco3)"
      ],
      "metadata": {
        "colab": {
          "base_uri": "https://localhost:8080/"
        },
        "id": "y27ILk037i-d",
        "outputId": "0a066f75-2fca-49fc-d37d-f8a05bfaa7e0"
      },
      "execution_count": null,
      "outputs": [
        {
          "output_type": "stream",
          "name": "stdout",
          "text": [
            "Обычный шоколадный батончик\n",
            "Шоколадный баточник, добавка: Орехи\n",
            "Шоколадный батончик, 50 рублей\n"
          ]
        }
      ]
    },
    {
      "cell_type": "code",
      "source": [
        "choco=Chocolate(-5)"
      ],
      "metadata": {
        "colab": {
          "base_uri": "https://localhost:8080/",
          "height": 263
        },
        "id": "W3fTUJ9r9Im7",
        "outputId": "9a4fa36a-7a85-49b6-a840-798b91419d17"
      },
      "execution_count": null,
      "outputs": [
        {
          "output_type": "error",
          "ename": "ValueError",
          "evalue": "Цена не может быть меньше 0!",
          "traceback": [
            "\u001b[0;31m---------------------------------------------------------------------------\u001b[0m",
            "\u001b[0;31mValueError\u001b[0m                                Traceback (most recent call last)",
            "\u001b[0;32m<ipython-input-27-956368b4fd3d>\u001b[0m in \u001b[0;36m<cell line: 1>\u001b[0;34m()\u001b[0m\n\u001b[0;32m----> 1\u001b[0;31m \u001b[0mchoco\u001b[0m\u001b[0;34m=\u001b[0m\u001b[0mChocolate\u001b[0m\u001b[0;34m(\u001b[0m\u001b[0;34m-\u001b[0m\u001b[0;36m5\u001b[0m\u001b[0;34m)\u001b[0m\u001b[0;34m\u001b[0m\u001b[0;34m\u001b[0m\u001b[0m\n\u001b[0m",
            "\u001b[0;32m<ipython-input-25-cf1f8de00adc>\u001b[0m in \u001b[0;36m__init__\u001b[0;34m(self, price, dopant)\u001b[0m\n\u001b[1;32m      2\u001b[0m   \u001b[0;32mdef\u001b[0m \u001b[0m__init__\u001b[0m\u001b[0;34m(\u001b[0m\u001b[0mself\u001b[0m\u001b[0;34m,\u001b[0m\u001b[0mprice\u001b[0m\u001b[0;34m,\u001b[0m\u001b[0mdopant\u001b[0m\u001b[0;34m=\u001b[0m\u001b[0;32mNone\u001b[0m\u001b[0;34m)\u001b[0m\u001b[0;34m:\u001b[0m\u001b[0;34m\u001b[0m\u001b[0;34m\u001b[0m\u001b[0m\n\u001b[1;32m      3\u001b[0m     \u001b[0;32mif\u001b[0m \u001b[0;34m(\u001b[0m\u001b[0mprice\u001b[0m\u001b[0;34m<\u001b[0m\u001b[0;36m0\u001b[0m\u001b[0;34m)\u001b[0m\u001b[0;34m:\u001b[0m\u001b[0;34m\u001b[0m\u001b[0;34m\u001b[0m\u001b[0m\n\u001b[0;32m----> 4\u001b[0;31m       \u001b[0;32mraise\u001b[0m \u001b[0mValueError\u001b[0m\u001b[0;34m(\u001b[0m\u001b[0;34m'Цена не может быть меньше 0!'\u001b[0m\u001b[0;34m)\u001b[0m\u001b[0;34m\u001b[0m\u001b[0;34m\u001b[0m\u001b[0m\n\u001b[0m\u001b[1;32m      5\u001b[0m     \u001b[0;32melse\u001b[0m\u001b[0;34m:\u001b[0m\u001b[0;34m\u001b[0m\u001b[0;34m\u001b[0m\u001b[0m\n\u001b[1;32m      6\u001b[0m         \u001b[0mself\u001b[0m\u001b[0;34m.\u001b[0m\u001b[0mprice\u001b[0m\u001b[0;34m=\u001b[0m\u001b[0mprice\u001b[0m\u001b[0;34m\u001b[0m\u001b[0;34m\u001b[0m\u001b[0m\n",
            "\u001b[0;31mValueError\u001b[0m: Цена не может быть меньше 0!"
          ]
        }
      ]
    }
  ]
}
